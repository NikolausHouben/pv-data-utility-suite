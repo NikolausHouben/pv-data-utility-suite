{
 "cells": [
  {
   "cell_type": "code",
   "execution_count": 105,
   "metadata": {},
   "outputs": [],
   "source": [
    "\n",
    "import os\n",
    "import pandas as pd\n",
    "import numpy as np\n",
    "import datetime\n",
    "import plotly.express as px\n",
    "from sklearn.preprocessing import MinMaxScaler\n",
    "\n",
    "\n",
    "# pvlib imports\n",
    "import pvlib\n",
    "from pvlib.location import Location\n",
    "from pvlib.pvsystem import PVSystem\n",
    "from pvlib.modelchain import ModelChain\n",
    "from pvlib.temperature import TEMPERATURE_MODEL_PARAMETERS\n",
    "from pvlib import irradiance\n"
   ]
  },
  {
   "cell_type": "code",
   "execution_count": 2,
   "metadata": {},
   "outputs": [],
   "source": [
    "from sklearn.preprocessing import MinMaxScaler\n",
    "from sklearn.metrics import mean_squared_error, r2_score\n",
    "from sklearn.linear_model import LinearRegression\n",
    "from xgboost import XGBRegressor\n",
    "\n",
    "import matplotlib.pyplot as plt"
   ]
  },
  {
   "cell_type": "markdown",
   "metadata": {},
   "source": [
    "### TODOs: \n",
    "\n",
    "* Homogenize the test period, and get clear on the accuracy metrics\n",
    "\n",
    "* Fix the physical bug (two are the same atm)\n",
    "\n",
    "\n",
    "* RMSE Skill Implementation\n",
    "    \n",
    "    - What is the reference model?  == A linear regression on meteo on the aggregated data set\n",
    "\n",
    "\n",
    "* Money Metric Function Implementation\n",
    "\n",
    "\n",
    "* Physical Modelling: \n",
    "    \n",
    "    - Implement the \"Best-Case\" and \"Worst-Case\" Scenario\n",
    "\n",
    "* ML Modelling: \n",
    "   \n",
    "    - Choose starting month randomly\n",
    "    - Sample for all systems -> STD\n",
    "    \n",
    "\n",
    "### General Questions\n",
    "\n",
    "* Use real irradiance data or historical forecasts?"
   ]
  },
  {
   "cell_type": "code",
   "execution_count": 82,
   "metadata": {},
   "outputs": [],
   "source": [
    "def physical_profile(row, df_irr):\n",
    "    latitude, longitude, tilt, azimuth, capacity = row\n",
    "\n",
    "    temperature_model_parameters = TEMPERATURE_MODEL_PARAMETERS[\"sapm\"][\n",
    "        \"open_rack_glass_glass\"\n",
    "    ]\n",
    "\n",
    "    location = Location(latitude=latitude, longitude=longitude)\n",
    "\n",
    "    pvwatts_system = PVSystem(\n",
    "        surface_tilt=tilt,\n",
    "        surface_azimuth=azimuth,\n",
    "        module_parameters={\"pdc0\": capacity, \"gamma_pdc\": -0.004},\n",
    "        inverter_parameters={\"pdc0\": capacity},\n",
    "        temperature_model_parameters=temperature_model_parameters,\n",
    "    )\n",
    "\n",
    "    mc = ModelChain(\n",
    "        pvwatts_system, location, aoi_model=\"physical\", spectral_model=\"no_loss\"\n",
    "    )\n",
    "    mc.run_model(df_irr)\n",
    "    results = mc.results.ac\n",
    "\n",
    "    df_results = pd.Series(results)\n",
    "    df_results.index = df_results.index.tz_localize(None)\n",
    "    df_results.index.name = \"timestamp\"\n",
    "    df_results.name = str(tilt) + \";\" + str(azimuth)\n",
    "\n",
    "    return df_results\n",
    "\n",
    "\n",
    "def pv_day_filter(data, site, tilt, azimuth, timesteplen):\n",
    "\n",
    "    index = data.index\n",
    "    times = pd.date_range(index[0], index[-1], freq=str(timesteplen) + \"T\")\n",
    "    clearsky = site.get_clearsky(times)\n",
    "    solar_position = site.get_solarposition(times=times)\n",
    "    # Use the get_total_irradiance function to transpose the GHI to POA\n",
    "    POA_irradiance = irradiance.get_total_irradiance(\n",
    "        surface_tilt=tilt,\n",
    "        surface_azimuth=azimuth,\n",
    "        dni=clearsky[\"dni\"],\n",
    "        ghi=clearsky[\"ghi\"],\n",
    "        dhi=clearsky[\"dhi\"],\n",
    "        solar_zenith=solar_position[\"apparent_zenith\"],\n",
    "        solar_azimuth=solar_position[\"azimuth\"],\n",
    "    )\n",
    "\n",
    "    day_index = POA_irradiance[POA_irradiance[\"poa_global\"] > 0].index\n",
    "\n",
    "    data_day_values = data.reindex(day_index).dropna()\n",
    "\n",
    "    return data_day_values\n",
    "\n",
    "\n",
    "\n",
    "def get_df_compare_physical(df_meta, df_power, df_irr):\n",
    "\n",
    "    \"\"\"\n",
    "    df_irr must have columns ['ghi', 'dni', 'dhi']\n",
    "\n",
    "    \"\"\"\n",
    "\n",
    "    df_compares = []\n",
    "    \n",
    "    for system_id in df_meta.index:\n",
    "        df_meta_data_id = df_meta.loc[system_id]\n",
    "        tilt, azimuth = df_meta_data_id[\"tilt\"], df_meta_data_id[\"azimuth\"]\n",
    "        location = Location(latitude=df_meta_data_id[\"latitude\"], longitude=df_meta_data_id[\"longitude\"])\n",
    "\n",
    "\n",
    "        df_physical_profile = physical_profile(df_meta_data_id, df_irr).to_frame(\"physical_profile\").resample(\"15T\").mean().fillna(method = \"bfill\", limit = 4) \n",
    "        df_physical_profile = pv_day_filter(df_physical_profile, location, tilt, azimuth, 15)\n",
    "\n",
    "        df_power_id = df_power[[str(system_id)]].resample(\"15T\").mean()\n",
    "\n",
    "        df_compare = pd.merge(df_power_id, df_physical_profile, left_index=True, right_index=True, how = \"right\").fillna(method = \"bfill\", limit= 4).dropna()\n",
    "        \n",
    "        df_compares.append(df_compare)\n",
    "        \n",
    "    return df_compares\n",
    "\n",
    "\n",
    "def calc_accuracies_from_df_compares(df_compares, metrics):\n",
    "\n",
    "\n",
    "    metrics_names = [metric.__name__ for metric in metrics]\n",
    "    df_acc = pd.DataFrame(columns = metrics_names, index = range(len(df_compares)))\n",
    "\n",
    "\n",
    "    for i, df_compare in enumerate(df_compares):\n",
    "        for metric in metrics:\n",
    "            metric_name = metric.__name__\n",
    "            df_acc.loc[i, metric_name] = metric(df_compare.iloc[:,:1],df_compare.iloc[:,1:])\n",
    "\n",
    "    \n",
    "    #transforming the mse into the rmse\n",
    "    if \"mean_squared_error\" in metrics_names:\n",
    "\n",
    "        df_acc[\"root_mean_squared_error\"] = np.sqrt(df_acc[\"mean_squared_error\"].astype(int))\n",
    "\n",
    "        df_acc.drop([\"mean_squared_error\"], axis = 1, inplace=True)\n",
    "\n",
    "    return df_acc\n",
    "\n",
    "\n",
    "\n",
    "def realistic_case_round(value, interval):\n",
    "\n",
    "    \"\"\"\n",
    "    Rounding the tilt to 10th degrees.\n",
    "    \"\"\"\n",
    "    rounded_value = round(value / interval) * interval\n",
    "    \n",
    "    return rounded_value\n",
    "\n",
    "def random_angle_init(df_meta, iters = 10, tilt_bounds = (10,60), azimuth_bounds = (0,360)):\n",
    "    \"\"\"\n",
    "    Use for scenarios in which angles are guessed by the aggregator. They are drawn *iters*-times from a uniform distribution for all systems within the optionally specified bounds.\n",
    "    Note: df_power and df_irr need to be in the global namespace of the file. \n",
    "    \"\"\"\n",
    "    means = []\n",
    "    stds = []\n",
    "    df_meta_new = df_meta.copy()\n",
    "    for i in range(iters): # samples of the uniform distribution\n",
    "        random_tilts = np.random.randint(tilt_bounds[0], tilt_bounds[1], (df_meta_new.shape[0]))\n",
    "        random_azimuths = np.random.randint(azimuth_bounds[0], azimuth_bounds[1], (df_meta_new.shape[0]))\n",
    "        df_meta_new[\"tilt\"] = random_tilts\n",
    "        df_meta_new[\"azimuth\"] = random_azimuths\n",
    "        df_meta_compare = get_df_compare_physical(df_meta_new, df_power, df_irr)\n",
    "        df_meta_accs = calc_accuracies_from_df_compares(df_meta_compare, [mean_squared_error, r2_score])\n",
    "        means.append(df_meta_accs.mean())\n",
    "        stds.append(df_meta_accs.std())\n",
    "    return means, stds\n",
    "\n",
    "\n",
    "\n",
    "rmse_d = {}\n",
    "r2_d = {}\n",
    "cost_d = {}\n",
    "\n",
    "def write_stats(df_acc:pd.DataFrame, scenario: str):\n",
    "\n",
    "    r2_mean, rmse_mean = df_acc.mean()\n",
    "    r2_std, rmse_std = df_acc.std() / 3\n",
    "    r2_d[scenario] = (r2_mean, r2_std)\n",
    "    rmse_d[scenario] = (rmse_mean, rmse_std)\n",
    "    print(\"Wrote mean and std for scenario: '{}' successfully.\".format(scenario))\n",
    "\n",
    "def make_df_plot_from_stats(stats_d):\n",
    "    df_plot = pd.DataFrame(stats_d).T.round()\n",
    "    df_plot.columns = [\"mean\", \"std\"]\n",
    "    return df_plot"
   ]
  },
  {
   "cell_type": "code",
   "execution_count": 48,
   "metadata": {},
   "outputs": [],
   "source": [
    "# Importing and merging the meta data; the optimized one is based on the tilt and azimuth inference script i wrote. \n",
    "\n",
    "df_meta = pd.read_csv(\"../../../Input_Data/Meta_Data_PV_Optimised.csv\", index_col = 0)\n",
    "df_meta_original = pd.read_csv(\"../../../Data/System/PV system information dataset TU WIEN.csv\", sep = \";\", index_col = 0)\n",
    "df_meta_data = pd.merge(df_meta_original, df_meta, left_index=True, right_index=True)\n",
    "df_meta_data[\"tilt\"] = df_meta_data[\"tilt_finetuned\"] \n",
    "df_meta_data[\"azimuth\"] = df_meta_data[\"azimuth_finetuned\"]\n",
    "df_meta_data = df_meta_data.iloc[:,1:-2]\n",
    "\n"
   ]
  },
  {
   "cell_type": "code",
   "execution_count": 6,
   "metadata": {},
   "outputs": [],
   "source": [
    "df_meteo_sol = pd.read_csv(\"../../../Input_Data/ghi_dni_dhi.csv\", index_col=0, parse_dates=True).resample(\"15T\").mean() # more complete than the other one\n",
    "df_meteo_sol = df_meteo_sol[['ghi', 'dni', 'dhi']]\n",
    "df_irr = df_meteo_sol \n"
   ]
  },
  {
   "cell_type": "code",
   "execution_count": 45,
   "metadata": {},
   "outputs": [],
   "source": [
    "# This is weather station irradiance data from Utrecht. There are some data points missing and the data is generally more volatile. As a result the data from solcast, which is based on satelite imagery, was selected. \n",
    "\n",
    "#df_meteo = pd.read_csv(\"/Users/nikolaushouben/Library/Mobile Documents/com~apple~CloudDocs/PhD_Icloud/PhD_Papers/Paper_2_Collaborative Forecasting/Data/Meteo/irradiance_data-2014_2017.csv\", index_col=0, parse_dates=True)\n",
    "#df_meteo = df_meteo[['GHI', 'DNI', 'DHI']]\n",
    "#df_meteo.columns = ['ghi_', 'dni_', 'dhi_']\n",
    "#df_meteo = df_meteo.resample(\"15T\").mean()\n",
    "#df_irr = df_meteo\n",
    "#df_irr.index = df_irr.index.tz_localize(tz = None)\n"
   ]
  },
  {
   "cell_type": "code",
   "execution_count": 8,
   "metadata": {},
   "outputs": [],
   "source": [
    "df_power = pd.read_csv(\"../../../Input_Data/PV_System_Power.csv\", index_col=0, parse_dates=True).resample(\"15T\").mean()\n",
    "\n",
    "# For subsequent comparison we need to select only those timestamps which are present in both dataframes. \n",
    "df_irr = df_irr.reindex(df_power.index)\n",
    "df_irr = df_irr.dropna()\n",
    "df_power = df_power.reindex(df_irr.index).dropna()"
   ]
  },
  {
   "cell_type": "markdown",
   "metadata": {},
   "source": [
    "# Physical Modelling"
   ]
  },
  {
   "cell_type": "markdown",
   "metadata": {},
   "source": [
    "## 0) Best-Case (Everything is known)"
   ]
  },
  {
   "cell_type": "code",
   "execution_count": 83,
   "metadata": {},
   "outputs": [],
   "source": [
    "df_compares_best_case_physical = get_df_compare_physical(df_meta_data, df_power, df_irr)\n",
    "df_acc_best = calc_accuracies_from_df_compares(df_compares_best_case_physical, [mean_squared_error, r2_score])\n"
   ]
  },
  {
   "cell_type": "code",
   "execution_count": 84,
   "metadata": {},
   "outputs": [
    {
     "name": "stdout",
     "output_type": "stream",
     "text": [
      "Wrote mean and std for scenario: 'All Known'successfully.\n"
     ]
    }
   ],
   "source": [
    "write_stats(df_acc_best, \"All Known\")"
   ]
  },
  {
   "cell_type": "markdown",
   "metadata": {},
   "source": [
    "## 1) Realistic-Case (Estimation by the Installer, Exact Location)"
   ]
  },
  {
   "cell_type": "code",
   "execution_count": 85,
   "metadata": {},
   "outputs": [],
   "source": [
    "df_meta_data_realistic_case = df_meta_data\n",
    "df_meta_data_realistic_case[\"tilt\"] = df_meta_data_realistic_case[\"tilt\"].apply(lambda x: realistic_case_round(x, 10))\n",
    "df_meta_data_realistic_case[\"azimuth\"] = df_meta_data_realistic_case[\"azimuth\"].apply(lambda x: realistic_case_round(x, 45))"
   ]
  },
  {
   "cell_type": "code",
   "execution_count": 86,
   "metadata": {},
   "outputs": [],
   "source": [
    "df_compares_realistic_case_physical = get_df_compare_physical(df_meta_data_realistic_case, df_power, df_irr)\n",
    "df_acc_real = calc_accuracies_from_df_compares(df_compares_realistic_case_physical, [mean_squared_error, r2_score])\n"
   ]
  },
  {
   "cell_type": "code",
   "execution_count": 87,
   "metadata": {},
   "outputs": [
    {
     "name": "stdout",
     "output_type": "stream",
     "text": [
      "Wrote mean and std for scenario: 'Estimated Angles'successfully.\n"
     ]
    }
   ],
   "source": [
    "\n",
    "write_stats(df_acc_real, \"Estimated Angles\")"
   ]
  },
  {
   "cell_type": "markdown",
   "metadata": {},
   "source": [
    "## 2) Medium-Case (Random Guessing, exact locations)"
   ]
  },
  {
   "cell_type": "code",
   "execution_count": 88,
   "metadata": {},
   "outputs": [],
   "source": [
    "means_2, stds_2 = random_angle_init(df_meta_data, iters = 10)\n"
   ]
  },
  {
   "cell_type": "code",
   "execution_count": 91,
   "metadata": {},
   "outputs": [],
   "source": [
    "r2_mean_2, rmse_mean_2 = zip(*means_2)\n",
    "r2_std_2, rmse_std_2 = zip(*stds_2)\n",
    "rmse_mean_2 = np.mean(rmse_mean_2)\n",
    "rmse_std_2 = np.mean(rmse_std_2) / 3\n",
    "r2_mean_2 = np.mean(r2_mean_2)\n",
    "r2_std_2 = np.mean(r2_std_2) / 3\n",
    "rmse_d[\"Unknown Angles\"] = (rmse_mean_2, rmse_std_2)\n",
    "r2_d[\"Unknown Angles\"] = (r2_mean_2, r2_std_2)"
   ]
  },
  {
   "cell_type": "markdown",
   "metadata": {},
   "source": [
    "## 3) Known Angles but average location"
   ]
  },
  {
   "cell_type": "code",
   "execution_count": 92,
   "metadata": {},
   "outputs": [
    {
     "name": "stdout",
     "output_type": "stream",
     "text": [
      "Wrote mean and std for scenario: 'Unknown Locations'successfully.\n"
     ]
    }
   ],
   "source": [
    "df_3 = df_meta_data\n",
    "df_3[[\"latitude\", \"longitude\"]] = round(df_3.mean(axis = 0)[[\"latitude\", \"longitude\"]]) #grabbing a mean location for the whole customer area\n",
    "df_3_compare = get_df_compare_physical(df_3, df_power, df_irr)\n",
    "df_acc_3 = calc_accuracies_from_df_compares(df_3_compare, [mean_squared_error, r2_score])\n",
    "\n",
    "write_stats(df_acc_3, \"Unknown Locations\")"
   ]
  },
  {
   "cell_type": "markdown",
   "metadata": {},
   "source": [
    "## 4) Unknown Angles and Unknown Locations"
   ]
  },
  {
   "cell_type": "code",
   "execution_count": 93,
   "metadata": {},
   "outputs": [],
   "source": [
    "df_meta_data_all_unknown = df_meta_data\n",
    "df_meta_data_all_unknown[[\"latitude\", \"longitude\"]] = round(df_meta_data_all_unknown.mean(axis = 0)[[\"latitude\", \"longitude\"]]) #grabbing a mean location for the whole customer area\n",
    "\n",
    "means_4, stds_4 = random_angle_init(df_meta_data_all_unknown, iters = 10)\n"
   ]
  },
  {
   "cell_type": "code",
   "execution_count": 94,
   "metadata": {},
   "outputs": [],
   "source": [
    "r2_mean_4, rmse_mean_4 = zip(*means_4)\n",
    "r2_std_4, rmse_std_4 = zip(*stds_4)\n",
    "rmse_mean_4 = np.mean(rmse_mean_4)\n",
    "rmse_std_4 = np.mean(rmse_std_4) / 3\n",
    "r2_mean_4 = np.mean(r2_mean_4)\n",
    "r2_std_4 = np.mean(r2_std_4) / 3\n",
    "rmse_d[\"All Unknown\"] = (rmse_mean_4, rmse_std_4)\n",
    "r2_d[\"All Unknown\"] = (r2_mean_4, r2_std_4)"
   ]
  },
  {
   "cell_type": "code",
   "execution_count": 115,
   "metadata": {},
   "outputs": [],
   "source": [
    "today = datetime.datetime.today().strftime(format = \"%d-%m-%y\")\n",
    "df_plot_rmse = make_df_plot_from_stats(rmse_d).sort_values(by=\"mean\")\n",
    "df_plot_rmse.to_csv(\"../../../Results/Table_Raw/physical_rmse_{}.csv\".format(today))\n",
    "\n",
    "df_plot_r2 = make_df_plot_from_stats(r2_d)\n",
    "df_plot_r2.to_csv(\"../../../Results/Table_Raw/physical_r2_{}.csv\".format(today))"
   ]
  },
  {
   "cell_type": "code",
   "execution_count": 117,
   "metadata": {},
   "outputs": [
    {
     "data": {
      "text/html": [
       "<div>\n",
       "<style scoped>\n",
       "    .dataframe tbody tr th:only-of-type {\n",
       "        vertical-align: middle;\n",
       "    }\n",
       "\n",
       "    .dataframe tbody tr th {\n",
       "        vertical-align: top;\n",
       "    }\n",
       "\n",
       "    .dataframe thead th {\n",
       "        text-align: right;\n",
       "    }\n",
       "</style>\n",
       "<table border=\"1\" class=\"dataframe\">\n",
       "  <thead>\n",
       "    <tr style=\"text-align: right;\">\n",
       "      <th></th>\n",
       "      <th>mean</th>\n",
       "      <th>std</th>\n",
       "    </tr>\n",
       "  </thead>\n",
       "  <tbody>\n",
       "    <tr>\n",
       "      <th>All Known</th>\n",
       "      <td>242.0</td>\n",
       "      <td>47.0</td>\n",
       "    </tr>\n",
       "    <tr>\n",
       "      <th>Estimated Angles</th>\n",
       "      <td>249.0</td>\n",
       "      <td>49.0</td>\n",
       "    </tr>\n",
       "    <tr>\n",
       "      <th>Unknown Locations</th>\n",
       "      <td>249.0</td>\n",
       "      <td>49.0</td>\n",
       "    </tr>\n",
       "    <tr>\n",
       "      <th>Unknown Angles</th>\n",
       "      <td>410.0</td>\n",
       "      <td>92.0</td>\n",
       "    </tr>\n",
       "    <tr>\n",
       "      <th>All Unknown</th>\n",
       "      <td>431.0</td>\n",
       "      <td>99.0</td>\n",
       "    </tr>\n",
       "  </tbody>\n",
       "</table>\n",
       "</div>"
      ],
      "text/plain": [
       "                    mean   std\n",
       "All Known          242.0  47.0\n",
       "Estimated Angles   249.0  49.0\n",
       "Unknown Locations  249.0  49.0\n",
       "Unknown Angles     410.0  92.0\n",
       "All Unknown        431.0  99.0"
      ]
     },
     "execution_count": 117,
     "metadata": {},
     "output_type": "execute_result"
    }
   ],
   "source": [
    "df_plot_rmse"
   ]
  },
  {
   "cell_type": "code",
   "execution_count": 116,
   "metadata": {},
   "outputs": [
    {
     "data": {
      "image/png": "[encoded data removed]",
      "text/plain": [
       "<Figure size 1200x800 with 1 Axes>"
      ]
     },
     "metadata": {},
     "output_type": "display_data"
    }
   ],
   "source": [
    "def acc_bar_plot(df_plot: pd.DataFrame, acc_name: str):\n",
    "\n",
    "    plt.rcParams[\"font.family\"] = \"Times New Roman\"\n",
    "    plt.rcParams.update({'font.size': 12})\n",
    "    fig, ax = plt.subplots(figsize = (12,8))\n",
    "    ax.set_axisbelow(True)\n",
    "    ax.grid(axis = \"y\")\n",
    "    ax.bar(x = df_plot.index, height = df_plot[\"mean\"].values, yerr =df_plot[\"std\"].values, capsize = 10)\n",
    "    ax.set_ylabel(acc_name)\n",
    "\n",
    "\n",
    "\n",
    "acc_bar_plot(df_plot_rmse, \"RMSE\")\n"
   ]
  },
  {
   "cell_type": "markdown",
   "metadata": {},
   "source": [
    "# ML Modelling"
   ]
  },
  {
   "cell_type": "markdown",
   "metadata": {},
   "source": [
    "1) Baseline Model = Aggregated Linear Regression\n",
    "\n",
    "2) Quantity Analysis\n",
    "\n",
    "3) Innovation: Shading extraction -> historic - physical; learn recurring, but moving shading -> superimpose this to physical profiles\n",
    "\n"
   ]
  },
  {
   "cell_type": "code",
   "execution_count": 214,
   "metadata": {},
   "outputs": [],
   "source": [
    "#TODO choose a month with shading as testing set\n",
    "\n",
    "def get_accuracies_per_month(df, model_type, metrics:list = None):\n",
    "\n",
    "    accuracy_dictionary = {}\n",
    "\n",
    "    start_date = df.index[0]\n",
    "    test_begin = df.index[-1] - pd.Timedelta(days = 30)\n",
    "    for month in range(1,12):\n",
    "        train_end = start_date + pd.Timedelta(weeks = 4*month)\n",
    "\n",
    "        assert train_end < test_begin, \"Reduce the number of months, so a test period remains.\"\n",
    "        train = df[start_date:train_end]\n",
    "\n",
    "        test = df[test_begin:]\n",
    "\n",
    "\n",
    "        scaler_ml_features = MinMaxScaler()\n",
    "        scaler_ml_target = MinMaxScaler()\n",
    "\n",
    "        X_train, y_train = scaler_ml_features.fit_transform(train.iloc[:,1:]), scaler_ml_target.fit_transform(train.iloc[:,:1])\n",
    "        X_test, y_test = scaler_ml_features.transform(test.iloc[:,1:]), scaler_ml_target.transform(test.iloc[:,:1])\n",
    "\n",
    "\n",
    "        model = model_type()\n",
    "        model.fit(X = X_train, y = y_train)\n",
    "        predictions = model.predict(X_test)\n",
    "\n",
    "        gt_unscaled = scaler_ml_target.inverse_transform(y_test.reshape(-1,1))\n",
    "        predictions_unscaled = scaler_ml_target.inverse_transform(predictions.reshape(-1,1))\n",
    "\n",
    "        df_y_test = pd.DataFrame({\"ground_truth\":gt_unscaled.squeeze(), \"predictions\": predictions_unscaled.squeeze()}, index = test.index)\n",
    "\n",
    "        rmse = mean_squared_error(y_true=df_y_test[\"ground_truth\"], y_pred= df_y_test[\"predictions\"], squared=False) / test.max()[0]\n",
    "        r2 = r2_score(y_true=df_y_test[\"ground_truth\"], y_pred= df_y_test[\"predictions\"])\n",
    "\n",
    "        accuracy_dictionary[month] = rmse, r2\n",
    "\n",
    "    df_accuracy = pd.DataFrame(accuracy_dictionary, index = [\"rmse\", \"r2\"]).T\n",
    "\n",
    "    return df_accuracy, df_y_test\n"
   ]
  },
  {
   "cell_type": "code",
   "execution_count": 215,
   "metadata": {},
   "outputs": [],
   "source": [
    "rmse = []\n",
    "r2 = []\n",
    "\n",
    "for i in range(34):\n",
    "    df_ml = pd.concat([df_power.iloc[:,i].to_frame(\"power_{}\".format(i)), df_irr], axis = 1).dropna()\n",
    "    x = get_accuracies_per_month(df_ml, LinearRegression)[0]\n",
    "    rmse.append(x[\"rmse\"])\n",
    "    r2.append(x[\"r2\"])\n",
    "\n",
    "\n",
    "\n"
   ]
  },
  {
   "cell_type": "code",
   "execution_count": 216,
   "metadata": {},
   "outputs": [],
   "source": [
    "means_ml = pd.concat(rmse, axis = 1).mean(axis = 1)\n",
    "std_ml = pd.concat(rmse, axis = 1).std(axis = 1)\n",
    "\n",
    "df_stats_ml = pd.DataFrame({\"mean\": means_ml, \"std\": std_ml})"
   ]
  },
  {
   "cell_type": "code",
   "execution_count": 217,
   "metadata": {},
   "outputs": [
    {
     "data": {
      "image/png": "[encoded data removed]",
      "text/plain": [
       "<Figure size 1200x800 with 1 Axes>"
      ]
     },
     "metadata": {},
     "output_type": "display_data"
    }
   ],
   "source": [
    "\n",
    "\n",
    "\n",
    "\n",
    "def acc_bar_plot(df_plot: pd.DataFrame, acc_name: str):\n",
    "\n",
    "    plt.rcParams[\"font.family\"] = \"Times New Roman\"\n",
    "    plt.rcParams.update({'font.size': 12})\n",
    "    fig, ax = plt.subplots(figsize = (12,8))\n",
    "    ax.set_axisbelow(True)\n",
    "    ax.grid(axis = \"y\")\n",
    "    ax.bar(x = df_plot.index, height = df_plot[\"mean\"].values, yerr =df_plot[\"std\"].values, capsize = 10)\n",
    "    ax.set_ylabel(acc_name)\n",
    "\n",
    "\n",
    "acc_bar_plot(df_stats_ml, \"nRMSE\")\n"
   ]
  },
  {
   "cell_type": "code",
   "execution_count": null,
   "metadata": {},
   "outputs": [],
   "source": []
  }
 ],
 "metadata": {
  "kernelspec": {
   "display_name": "Python 3.9.13 ('pv_forecasting')",
   "language": "python",
   "name": "python3"
  },
  "language_info": {
   "codemirror_mode": {
    "name": "ipython",
    "version": 3
   },
   "file_extension": ".py",
   "mimetype": "text/x-python",
   "name": "python",
   "nbconvert_exporter": "python",
   "pygments_lexer": "ipython3",
   "version": "3.9.13"
  },
  "orig_nbformat": 4,
  "vscode": {
   "interpreter": {
    "hash": "d7da3e0b872b3b20a624f6348a5160e04adddb1509a7de316be35a482860b450"
   }
  }
 },
 "nbformat": 4,
 "nbformat_minor": 2
}
