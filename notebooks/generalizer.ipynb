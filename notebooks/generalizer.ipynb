{
 "cells": [
  {
   "cell_type": "code",
   "execution_count": 1,
   "metadata": {},
   "outputs": [],
   "source": [
    "\n",
    "import os\n",
    "import pandas as pd\n",
    "import numpy as np\n",
    "import plotly.express as px\n",
    "from sklearn.preprocessing import MinMaxScaler\n",
    "\n",
    "\n",
    "# pvlib imports\n",
    "import pvlib\n",
    "from pvlib.location import Location\n",
    "from pvlib.pvsystem import PVSystem\n",
    "from pvlib.modelchain import ModelChain\n",
    "from pvlib.temperature import TEMPERATURE_MODEL_PARAMETERS\n",
    "from pvlib import irradiance\n"
   ]
  },
  {
   "cell_type": "code",
   "execution_count": 2,
   "metadata": {},
   "outputs": [],
   "source": [
    "from sklearn.preprocessing import MinMaxScaler\n",
    "from sklearn.metrics import mean_squared_error, r2_score\n",
    "from sklearn.linear_model import LinearRegression\n",
    "from xgboost import XGBRegressor\n",
    "\n",
    "import matplotlib.pyplot as plt"
   ]
  },
  {
   "cell_type": "markdown",
   "metadata": {},
   "source": [
    "### TODOs: \n",
    "\n",
    "* RMSE Skill Implementation\n",
    "    \n",
    "    - What is the reference model?  == A linear regression on meteo on the aggregated data set\n",
    "\n",
    "\n",
    "* Physical Modelling: \n",
    "    \n",
    "    - Implement the \"Best-Case\" and \"Worst-Case\" Scenario\n",
    "\n",
    "* ML Modelling: \n",
    "   \n",
    "    - Choose starting month randomly\n",
    "    - Sample for all systems -> STD\n",
    "    - \n",
    "\n",
    "### General Questions\n",
    "\n",
    "* Use real irradiance data or historical forecasts?"
   ]
  },
  {
   "cell_type": "code",
   "execution_count": 33,
   "metadata": {},
   "outputs": [],
   "source": [
    "def physical_profile(row, df_irr):\n",
    "    latitude, longitude, tilt, azimuth, capacity = row\n",
    "\n",
    "    temperature_model_parameters = TEMPERATURE_MODEL_PARAMETERS[\"sapm\"][\n",
    "        \"open_rack_glass_glass\"\n",
    "    ]\n",
    "\n",
    "    location = Location(latitude=latitude, longitude=longitude)\n",
    "\n",
    "    pvwatts_system = PVSystem(\n",
    "        surface_tilt=tilt,\n",
    "        surface_azimuth=azimuth,\n",
    "        module_parameters={\"pdc0\": capacity, \"gamma_pdc\": -0.004},\n",
    "        inverter_parameters={\"pdc0\": capacity},\n",
    "        temperature_model_parameters=temperature_model_parameters,\n",
    "    )\n",
    "\n",
    "    mc = ModelChain(\n",
    "        pvwatts_system, location, aoi_model=\"physical\", spectral_model=\"no_loss\"\n",
    "    )\n",
    "    mc.run_model(df_irr)\n",
    "    results = mc.results.ac\n",
    "\n",
    "    df_results = pd.Series(results)\n",
    "    df_results.index = df_results.index.tz_localize(None)\n",
    "    df_results.index.name = \"timestamp\"\n",
    "    df_results.name = str(tilt) + \";\" + str(azimuth)\n",
    "\n",
    "    return df_results\n",
    "\n",
    "\n",
    "def pv_day_filter(data, site, tilt, azimuth, timesteplen):\n",
    "\n",
    "    index = data.index\n",
    "    times = pd.date_range(index[0], index[-1], freq=str(timesteplen) + \"T\")\n",
    "    clearsky = site.get_clearsky(times)\n",
    "    solar_position = site.get_solarposition(times=times)\n",
    "    # Use the get_total_irradiance function to transpose the GHI to POA\n",
    "    POA_irradiance = irradiance.get_total_irradiance(\n",
    "        surface_tilt=tilt,\n",
    "        surface_azimuth=azimuth,\n",
    "        dni=clearsky[\"dni\"],\n",
    "        ghi=clearsky[\"ghi\"],\n",
    "        dhi=clearsky[\"dhi\"],\n",
    "        solar_zenith=solar_position[\"apparent_zenith\"],\n",
    "        solar_azimuth=solar_position[\"azimuth\"],\n",
    "    )\n",
    "\n",
    "    day_index = POA_irradiance[POA_irradiance[\"poa_global\"] > 0].index\n",
    "\n",
    "    data_day_values = data.reindex(day_index).dropna()\n",
    "\n",
    "    return data_day_values\n",
    "\n",
    "\n",
    "def get_accuracies_per_month(df, model_type):\n",
    "\n",
    "    accuracy_dictionary = {}\n",
    "\n",
    "    start_date = pd.Timestamp(\"2015-02-01 14:00:00\")\n",
    "    for month in range(9):\n",
    "\n",
    "        train_end = start_date + pd.Timedelta(weeks = 4*month)\n",
    "        train = df[start_date:train_end]\n",
    "        if month > 0:\n",
    "            test = pd.concat([df[:start_date], df[train_end:]], axis = 0)\n",
    "        else:\n",
    "            test = df[train_end:]\n",
    "\n",
    "        scaler_ml_features = MinMaxScaler()\n",
    "        scaler_ml_target = MinMaxScaler()\n",
    "\n",
    "        X_train, y_train = scaler_ml_features.fit_transform(train.iloc[:,1:]), scaler_ml_target.fit_transform(train.iloc[:,:1])\n",
    "        X_test, y_test = scaler_ml_features.transform(test.iloc[:,1:]), scaler_ml_target.transform(test.iloc[:,:1])\n",
    "\n",
    "\n",
    "        model = model_type()\n",
    "        model.fit(X = X_train, y = y_train)\n",
    "        predictions = model.predict(X_test)\n",
    "\n",
    "        gt_unscaled = scaler_ml_target.inverse_transform(y_test.reshape(-1,1))\n",
    "        predictions_unscaled = scaler_ml_target.inverse_transform(predictions.reshape(-1,1))\n",
    "\n",
    "        df_y_test = pd.DataFrame({\"ground_truth\":gt_unscaled.squeeze(), \"predictions\": predictions_unscaled.squeeze()}, index = test.index)\n",
    "\n",
    "        rmse = mean_squared_error(y_true=df_y_test[\"ground_truth\"], y_pred= df_y_test[\"predictions\"], squared=False)\n",
    "        r2 = r2_score(y_true=df_y_test[\"ground_truth\"], y_pred= df_y_test[\"predictions\"])\n",
    "\n",
    "        accuracy_dictionary[month] = rmse, r2 \n",
    "\n",
    "    df_accuracy = pd.DataFrame(accuracy_dictionary, index = [\"rmse\", \"r2\"]).T.reset_index()\n",
    "\n",
    "    return df_accuracy, df_y_test\n",
    "\n",
    "\n",
    "def concat_physical_ml_accuracies(df_compare, df_accuracy):\n",
    "    rmse_phys = mean_squared_error(df_compare.iloc[:,:1], df_compare.iloc[:,1:], squared=False)\n",
    "    r2_phys = r2_score(df_compare.iloc[:,:1], df_compare.iloc[:,1:])\n",
    "    df_accuracy.loc[-1,:] = -1, rmse_phys, r2_phys \n",
    "\n",
    "    return df_accuracy\n",
    "\n",
    "\n",
    "def get_df_compare_physical(df_meta, df_power, df_irr):\n",
    "\n",
    "    \"\"\"\n",
    "    df_irr must have columns ['ghi', 'dni', 'dhi']\n",
    "\n",
    "    \"\"\"\n",
    "\n",
    "    df_compares = []\n",
    "    \n",
    "    for system_id in df_meta.index:\n",
    "        df_meta_data_id = df_meta.loc[system_id]\n",
    "        tilt, azimuth = df_meta_data_id[\"tilt\"], df_meta_data_id[\"azimuth\"]\n",
    "        location = Location(latitude=df_meta_data_id[\"latitude\"], longitude=df_meta_data_id[\"longitude\"])\n",
    "\n",
    "\n",
    "        df_physical_profile = physical_profile(df_meta_data_id, df_irr).to_frame(\"physical_profile\").resample(\"15T\").mean().fillna(method = \"bfill\", limit = 4) \n",
    "        df_physical_profile = pv_day_filter(df_physical_profile, location, tilt, azimuth, 15)\n",
    "\n",
    "        df_power_id = df_power[[str(system_id)]].resample(\"15T\").mean()\n",
    "\n",
    "        df_compare = pd.merge(df_power_id, df_physical_profile, left_index=True, right_index=True, how = \"right\").fillna(method = \"bfill\", limit= 4).dropna()\n",
    "        \n",
    "        df_compares.append(df_compare)\n",
    "        \n",
    "    return df_compares\n",
    "\n",
    "\n",
    "def calc_accuracies_from_df_compares(df_compares, metrics):\n",
    "\n",
    "\n",
    "    metrics_names = [metric.__name__ for metric in metrics]\n",
    "    df_acc = pd.DataFrame(columns = metrics_names, index = range(len(df_compares)))\n",
    "\n",
    "\n",
    "    for i, df_compare in enumerate(df_compares):\n",
    "        for metric in metrics:\n",
    "            metric_name = metric.__name__\n",
    "            df_acc.loc[i, metric_name] = metric(df_compare.iloc[:,:1],df_compare.iloc[:,1:])\n",
    "\n",
    "    \n",
    "    #transforming the mse into the rmse\n",
    "    if \"mean_squared_error\" in metrics_names:\n",
    "\n",
    "        df_acc[\"root_mean_squared_error\"] = np.sqrt(df_acc[\"mean_squared_error\"].astype(int))\n",
    "\n",
    "        df_acc.drop([\"mean_squared_error\"], axis = 1, inplace=True)\n",
    "\n",
    "    return df_acc\n",
    "\n",
    "\n",
    "\n",
    "def realistic_case_round(value, interval):\n",
    "\n",
    "    \"\"\"\n",
    "    Rounding the tilt to 10th degrees.\n",
    "    \"\"\"\n",
    "    rounded_value = round(value / interval) * interval\n",
    "    \n",
    "    return rounded_value"
   ]
  },
  {
   "cell_type": "code",
   "execution_count": 4,
   "metadata": {},
   "outputs": [],
   "source": [
    "# Importing and merging the meta data; the optimized one is based on the tilt and azimuth inference script i wrote. \n",
    "\n",
    "df_meta = pd.read_csv(\"../../../Input_Data/Meta_Data_PV_Optimised.csv\", index_col = 0)\n",
    "df_meta_original = pd.read_csv(\"../../../Data/System/PV system information dataset TU WIEN.csv\", sep = \";\", index_col = 0)\n",
    "df_meta_data = pd.merge(df_meta_original, df_meta, left_index=True, right_index=True)\n",
    "df_meta_data[\"tilt\"] = df_meta_data[\"tilt_finetuned\"] \n",
    "df_meta_data[\"azimuth\"] = df_meta_data[\"azimuth_finetuned\"]\n",
    "df_meta_data = df_meta_data.iloc[:,1:-2]\n",
    "\n"
   ]
  },
  {
   "cell_type": "code",
   "execution_count": 50,
   "metadata": {},
   "outputs": [],
   "source": [
    "df_meteo_sol = pd.read_csv(\"../../../Input_Data/ghi_dni_dhi.csv\", index_col=0, parse_dates=True).resample(\"15T\").mean() # more complete than the other one\n",
    "df_meteo_sol = df_meteo_sol[['ghi', 'dni', 'dhi']]\n",
    "df_irr = df_meteo_sol \n"
   ]
  },
  {
   "cell_type": "code",
   "execution_count": 45,
   "metadata": {},
   "outputs": [],
   "source": [
    "# This is weather station irradiance data from Utrecht. There are some data points missing and the data is generally more volatile. As a result the data from solcast, which is based on satelite imagery, was selected. \n",
    "\n",
    "#df_meteo = pd.read_csv(\"/Users/nikolaushouben/Library/Mobile Documents/com~apple~CloudDocs/PhD_Icloud/PhD_Papers/Paper_2_Collaborative Forecasting/Data/Meteo/irradiance_data-2014_2017.csv\", index_col=0, parse_dates=True)\n",
    "#df_meteo = df_meteo[['GHI', 'DNI', 'DHI']]\n",
    "#df_meteo.columns = ['ghi_', 'dni_', 'dhi_']\n",
    "#df_meteo = df_meteo.resample(\"15T\").mean()\n",
    "#df_irr = df_meteo\n",
    "#df_irr.index = df_irr.index.tz_localize(tz = None)\n"
   ]
  },
  {
   "cell_type": "code",
   "execution_count": 51,
   "metadata": {},
   "outputs": [],
   "source": [
    "df_power = pd.read_csv(\"../../../Input_Data/PV_System_Power.csv\", index_col=0, parse_dates=True).resample(\"15T\").mean()\n",
    "\n",
    "# For subsequent comparison we need to select only those timestamps which are present in both dataframes. \n",
    "df_irr = df_irr.reindex(df_power.index)\n",
    "df_irr = df_irr.dropna()\n",
    "df_power = df_power.reindex(df_irr.index).dropna()"
   ]
  },
  {
   "cell_type": "markdown",
   "metadata": {},
   "source": [
    "# Physical Modelling"
   ]
  },
  {
   "cell_type": "markdown",
   "metadata": {},
   "source": [
    "## 0) Best-Case (Everything is known)"
   ]
  },
  {
   "cell_type": "code",
   "execution_count": 52,
   "metadata": {},
   "outputs": [
    {
     "data": {
      "text/plain": [
       "<BarContainer object of 2 artists>"
      ]
     },
     "execution_count": 52,
     "metadata": {},
     "output_type": "execute_result"
    },
    {
     "data": {
      "image/png": "[encoded data removed]",
      "text/plain": [
       "<Figure size 640x480 with 1 Axes>"
      ]
     },
     "metadata": {},
     "output_type": "display_data"
    }
   ],
   "source": [
    "df_compares_best_case_physical = get_df_compare_physical(df_meta_data, df_power, df_irr)\n",
    "df_acc_best = calc_accuracies_from_df_compares(df_compares_best_case_physical, [mean_squared_error, r2_score])\n",
    "mean_0 = df_acc_best.mean()\n",
    "std_0 = df_acc_best.std()\n",
    "plt.bar([\"real\"], mean_0, 0.5, yerr=std_0)"
   ]
  },
  {
   "cell_type": "code",
   "execution_count": 57,
   "metadata": {},
   "outputs": [
    {
     "data": {
      "text/plain": [
       "r2_score                     0.829372\n",
       "root_mean_squared_error    241.647750\n",
       "dtype: float64"
      ]
     },
     "execution_count": 57,
     "metadata": {},
     "output_type": "execute_result"
    }
   ],
   "source": [
    "mean_best"
   ]
  },
  {
   "cell_type": "markdown",
   "metadata": {},
   "source": [
    "## 1) Realistic-Case (Estimation by the Installer, Exact Location)"
   ]
  },
  {
   "cell_type": "code",
   "execution_count": 58,
   "metadata": {},
   "outputs": [],
   "source": [
    "df_meta_data_realistic_case = df_meta_data\n",
    "df_meta_data_realistic_case[\"tilt\"] = df_meta_data_realistic_case[\"tilt\"].apply(lambda x: realistic_case_round(x, 10))\n",
    "df_meta_data_realistic_case[\"azimuth\"] = df_meta_data_realistic_case[\"azimuth\"].apply(lambda x: realistic_case_round(x, 45))"
   ]
  },
  {
   "cell_type": "code",
   "execution_count": 59,
   "metadata": {},
   "outputs": [
    {
     "data": {
      "text/plain": [
       "<BarContainer object of 2 artists>"
      ]
     },
     "execution_count": 59,
     "metadata": {},
     "output_type": "execute_result"
    },
    {
     "data": {
      "image/png": "[encoded data removed]",
      "text/plain": [
       "<Figure size 640x480 with 1 Axes>"
      ]
     },
     "metadata": {},
     "output_type": "display_data"
    }
   ],
   "source": [
    "df_compares_realistic_case_physical = get_df_compare_physical(df_meta_data_realistic_case, df_power, df_irr)\n",
    "df_acc_real = calc_accuracies_from_df_compares(df_compares_realistic_case_physical, [mean_squared_error, r2_score])\n",
    "mean_1 = df_acc_real.mean()\n",
    "std_1 = df_acc_real.std()\n",
    "plt.bar([\"real\"], mean_1, 0.5, yerr=std_1)"
   ]
  },
  {
   "cell_type": "markdown",
   "metadata": {},
   "source": [
    "## 2) Medium-Case (Random Guessing, exact locations)"
   ]
  },
  {
   "cell_type": "code",
   "execution_count": 82,
   "metadata": {},
   "outputs": [],
   "source": [
    "means = []\n",
    "stds = []\n",
    "for i in range(10):\n",
    "    tilts = np.random.randint(10, 60, (df_meta.shape[0]))\n",
    "    azimuths = np.random.randint(0, 360, (df_meta.shape[0]))\n",
    "    df_meta_data_guess_angles = df_meta_data\n",
    "    df_meta_data_guess_angles[\"tilt\"] = tilts\n",
    "    df_meta_data_guess_angles[\"azimuth\"] = azimuths\n",
    "    df_compares_guessed_angles = get_df_compare_physical(df_meta_data_guess_angles, df_power, df_irr)\n",
    "    df_acc_guessed = calc_accuracies_from_df_compares(df_compares_guessed_angles, [mean_squared_error, r2_score])\n",
    "    means.append(df_acc_guessed.mean())\n",
    "    stds.append(df_acc_guessed.std())\n"
   ]
  },
  {
   "cell_type": "code",
   "execution_count": 87,
   "metadata": {},
   "outputs": [],
   "source": [
    "r2_mean, rmse_mean = zip(*means)\n",
    "r2_std, rmse_std = zip(*stds)"
   ]
  },
  {
   "cell_type": "code",
   "execution_count": 90,
   "metadata": {},
   "outputs": [
    {
     "data": {
      "text/plain": [
       "<BarContainer object of 1 artists>"
      ]
     },
     "execution_count": 90,
     "metadata": {},
     "output_type": "execute_result"
    },
    {
     "data": {
      "image/png": "[encoded data removed]",
      "text/plain": [
       "<Figure size 640x480 with 1 Axes>"
      ]
     },
     "metadata": {},
     "output_type": "display_data"
    }
   ],
   "source": [
    "mean_2 = np.mean(rmse_mean)\n",
    "std_2 = np.mean(rmse_std)\n",
    "plt.bar([\"real\"], mean_2, 0.5, yerr=std_2)"
   ]
  },
  {
   "cell_type": "markdown",
   "metadata": {},
   "source": [
    "## 3) Known Angles but average location"
   ]
  },
  {
   "cell_type": "code",
   "execution_count": 97,
   "metadata": {},
   "outputs": [
    {
     "data": {
      "text/plain": [
       "<BarContainer object of 1 artists>"
      ]
     },
     "execution_count": 97,
     "metadata": {},
     "output_type": "execute_result"
    },
    {
     "data": {
      "image/png": "[encoded data removed]",
      "text/plain": [
       "<Figure size 640x480 with 1 Axes>"
      ]
     },
     "metadata": {},
     "output_type": "display_data"
    }
   ],
   "source": [
    "df_loc = df_meta_data\n",
    "df_loc[[\"latitude\", \"longitude\"]]= round(df_loc.mean(axis = 0)[[\"latitude\", \"longitude\"]])\n",
    "df_loc_compare = get_df_compare_physical(df_loc, df_power, df_irr)\n",
    "df_acc_loc = calc_accuracies_from_df_compares(df_loc_compare, [mean_squared_error, r2_score])\n"
   ]
  },
  {
   "cell_type": "code",
   "execution_count": 102,
   "metadata": {},
   "outputs": [
    {
     "data": {
      "text/plain": [
       "<BarContainer object of 1 artists>"
      ]
     },
     "execution_count": 102,
     "metadata": {},
     "output_type": "execute_result"
    },
    {
     "data": {
      "image/png": "[encoded data removed]",
      "text/plain": [
       "<Figure size 640x480 with 1 Axes>"
      ]
     },
     "metadata": {},
     "output_type": "display_data"
    }
   ],
   "source": [
    "\n",
    "mean_3_r2, mean_3_rmse = df_acc_loc.mean()\n",
    "std_3_r2, std_3_rmse = df_acc_loc.std()\n",
    "plt.bar([\"real\"], mean_3_rmse, 0.5, yerr=std_3_rmse)"
   ]
  },
  {
   "cell_type": "markdown",
   "metadata": {},
   "source": [
    "## 4) Unknown Angles and Unknown Locations"
   ]
  },
  {
   "cell_type": "markdown",
   "metadata": {},
   "source": [
    "# ML Modelling"
   ]
  }
 ],
 "metadata": {
  "kernelspec": {
   "display_name": "Python 3.9.13 ('pv_forecasting')",
   "language": "python",
   "name": "python3"
  },
  "language_info": {
   "codemirror_mode": {
    "name": "ipython",
    "version": 3
   },
   "file_extension": ".py",
   "mimetype": "text/x-python",
   "name": "python",
   "nbconvert_exporter": "python",
   "pygments_lexer": "ipython3",
   "version": "3.9.13"
  },
  "orig_nbformat": 4,
  "vscode": {
   "interpreter": {
    "hash": "d7da3e0b872b3b20a624f6348a5160e04adddb1509a7de316be35a482860b450"
   }
  }
 },
 "nbformat": 4,
 "nbformat_minor": 2
}
