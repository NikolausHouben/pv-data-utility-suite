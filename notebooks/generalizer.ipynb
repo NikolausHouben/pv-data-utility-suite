{
 "cells": [
  {
   "cell_type": "code",
   "execution_count": 32,
   "metadata": {},
   "outputs": [],
   "source": [
    "\n",
    "import os\n",
    "import pandas as pd\n",
    "import numpy as np\n",
    "import datetime\n",
    "import plotly.express as px\n",
    "from sklearn.preprocessing import MinMaxScaler\n",
    "\n",
    "\n",
    "# pvlib imports\n",
    "import pvlib\n",
    "from pvlib.location import Location\n",
    "from pvlib.pvsystem import PVSystem\n",
    "from pvlib.modelchain import ModelChain\n",
    "from pvlib.temperature import TEMPERATURE_MODEL_PARAMETERS\n",
    "from pvlib import irradiance\n"
   ]
  },
  {
   "cell_type": "code",
   "execution_count": 33,
   "metadata": {},
   "outputs": [],
   "source": [
    "from sklearn.preprocessing import MinMaxScaler\n",
    "from sklearn.metrics import mean_squared_error, r2_score, mean_absolute_error\n",
    "from sklearn.linear_model import LinearRegression\n",
    "from xgboost import XGBRegressor\n",
    "import matplotlib.pyplot as plt\n",
    "plt.rcParams[\"font.family\"] = \"Times New Roman\"\n",
    "plt.rcParams.update({'font.size': 16})\n",
    "\n",
    "import re\n",
    "\n",
    "import copy"
   ]
  },
  {
   "cell_type": "markdown",
   "metadata": {},
   "source": [
    "### TODOs: \n",
    "\n",
    "* Homogenize the test period, and get clear on the accuracy metrics\n",
    "\n",
    "* Fix the physical bug (two are the same atm)\n",
    "\n",
    "\n",
    "* RMSE Skill Implementation\n",
    "    \n",
    "    - What is the reference model?  == A linear regression on meteo on the aggregated data set\n",
    "\n",
    "\n",
    "* Money Metric Function Implementation\n",
    "\n",
    "\n",
    "* Physical Modelling: \n",
    "    \n",
    "    - Implement the \"Best-Case\" and \"Worst-Case\" Scenario\n",
    "\n",
    "* ML Modelling: \n",
    "   \n",
    "    - Choose starting month randomly\n",
    "    - Sample for all systems -> STD\n",
    "    \n",
    "\n",
    "### General Questions\n",
    "\n",
    "* Use real irradiance data or historical forecasts?"
   ]
  },
  {
   "cell_type": "code",
   "execution_count": 151,
   "metadata": {},
   "outputs": [],
   "source": [
    "def physical_profile(row, df_irr):\n",
    "    latitude, longitude, tilt, azimuth, capacity = row\n",
    "\n",
    "    temperature_model_parameters = TEMPERATURE_MODEL_PARAMETERS[\"sapm\"][\n",
    "        \"open_rack_glass_glass\"\n",
    "    ]\n",
    "\n",
    "    location = Location(latitude=latitude, longitude=longitude)\n",
    "\n",
    "    pvwatts_system = PVSystem(\n",
    "        surface_tilt=tilt,\n",
    "        surface_azimuth=azimuth,\n",
    "        module_parameters={\"pdc0\": capacity, \"gamma_pdc\": -0.004},\n",
    "        inverter_parameters={\"pdc0\": capacity},\n",
    "        temperature_model_parameters=temperature_model_parameters,\n",
    "    )\n",
    "\n",
    "    mc = ModelChain(\n",
    "        pvwatts_system, location, aoi_model=\"physical\", spectral_model=\"no_loss\" #these are my model chain assumptions\n",
    "    )\n",
    "    mc.run_model(df_irr)\n",
    "    results = mc.results.ac\n",
    "\n",
    "    df_results = pd.Series(results)\n",
    "    df_results.index = df_results.index.tz_localize(None)\n",
    "    df_results.index.name = \"timestamp\"\n",
    "    df_results.name = str(tilt) + \";\" + str(azimuth)\n",
    "\n",
    "    return df_results\n",
    "\n",
    "\n",
    "def pv_day_filter(data, lat, lon, tilt, azimuth, timesteplen):\n",
    "\n",
    "    site = Location(lat, lon)\n",
    "    index = data.index\n",
    "    times = pd.date_range(index[0], index[-1], freq=str(timesteplen) + \"T\")\n",
    "    clearsky = site.get_clearsky(times)\n",
    "    solar_position = site.get_solarposition(times=times)\n",
    "    # Use the get_total_irradiance function to transpose the GHI to POA\n",
    "    POA_irradiance = irradiance.get_total_irradiance(\n",
    "        surface_tilt=tilt,\n",
    "        surface_azimuth=azimuth,\n",
    "        dni=clearsky[\"dni\"],\n",
    "        ghi=clearsky[\"ghi\"],\n",
    "        dhi=clearsky[\"dhi\"],\n",
    "        solar_zenith=solar_position[\"apparent_zenith\"],\n",
    "        solar_azimuth=solar_position[\"azimuth\"],\n",
    "    )\n",
    "\n",
    "    day_index = POA_irradiance[POA_irradiance[\"poa_global\"] > 0].index\n",
    "\n",
    "    data_day_values = data.reindex(day_index).dropna()\n",
    "\n",
    "    return data_day_values\n",
    "\n",
    "\n",
    "\n",
    "def get_df_compare_physical(df_meta, df_power, df_irr, test_period_index):\n",
    "\n",
    "    \"\"\"\n",
    "    df_irr must have columns ['ghi', 'dni', 'dhi']\n",
    "\n",
    "    \"\"\"\n",
    "\n",
    "    df_compares = []\n",
    "    timesteplen = int(test_period_index.freq.delta.seconds/60) # in minutes\n",
    "    \n",
    "    for system_id in df_meta.index:\n",
    "        df_meta_data_id = df_meta.loc[system_id]\n",
    "        lat, lon, tilt, azimuth, _ = df_meta_data_id.values\n",
    "        \n",
    "        df_irr = df_irr.reindex(test_period_index).dropna()\n",
    "        df_physical_profile = physical_profile(df_meta_data_id, df_irr).to_frame(\"physical_profile\").resample(\"15T\").mean().fillna(method = \"bfill\", limit = 4) \n",
    "        df_physical_profile = pv_day_filter(df_physical_profile, lat, lon, tilt, azimuth, 15)\n",
    "\n",
    "    \n",
    "        df_power_id = df_power[[str(system_id)]].resample(str(timesteplen) + \"T\").mean()\n",
    "\n",
    "        df_compare = pd.merge(df_power_id, df_physical_profile, left_index=True, right_index=True, how = \"right\").fillna(method = \"bfill\", limit= 4).dropna()\n",
    "        df_physical_profile = pv_day_filter(df_compare, lat, lon, tilt, azimuth, timesteplen)\n",
    "        df_compares.append(df_compare.reindex(test_period_index).dropna())\n",
    "\n",
    "    return df_compares\n",
    "\n",
    "\n",
    "def calc_accuracies_from_df_compares(df_compares:list, metrics:list, lat, lon, tilt, azimuth, timesteplen):\n",
    "\n",
    "    \"\"\"\n",
    "    Inputs are a list of pd.DataFrames = [[df_predictions, df_ground_truth],[df_predictions, df_ground_truth], .... ] and a list of error metrics from sklearn.metrics\n",
    "\n",
    "    Note that the mse will be reinterpreted as the nRMSE. This is because of the specific problem that has been analysis, i.e., the different capacities of pv systems. \n",
    "\n",
    "    Outputs are the error scores for each df in the dfs list for each error metric in a table that looks like:\n",
    "    \n",
    "    \"\"\"\n",
    "\n",
    "\n",
    "    metrics_names = [metric.__name__ for metric in metrics]\n",
    "    df_acc = pd.DataFrame(columns = metrics_names, index = range(len(df_compares)))\n",
    "\n",
    "\n",
    "    system_ids = []\n",
    "    for i, df_compare in enumerate(df_compares):\n",
    "\n",
    "\n",
    "        df_compare = pv_day_filter(df_compare, lat, lon, tilt, azimuth, timesteplen)\n",
    "        system_ids.append(int(df_compare.columns[0]))\n",
    "\n",
    "        for metric in metrics:\n",
    "            metric_name = metric.__name__\n",
    "            score = metric(df_compare.iloc[:,:1],df_compare.iloc[:,1:])\n",
    "            if metric_name == \"mean_squared_error\":\n",
    "                score = np.sqrt(score)\n",
    "        \n",
    "            df_acc.loc[i, metric_name] = score\n",
    "\n",
    "\n",
    "    #transforming the mse into the rmse\n",
    "    if \"mean_squared_error\" in metrics_names:\n",
    "\n",
    "        df_acc[\"root_mean_squared_error\"] = np.sqrt(df_acc[\"mean_squared_error\"].astype(\"float32\"))\n",
    "\n",
    "        df_acc.drop([\"mean_squared_error\"], axis = 1, inplace=True)\n",
    "\n",
    "    df_acc.index = system_ids\n",
    "\n",
    "    return df_acc\n",
    "\n",
    "\n",
    "\n",
    "def realistic_case_round(value:int, interval:int):\n",
    "\n",
    "    \"\"\"\n",
    "    Rounding the tilt to 10th degrees.\n",
    "    \"\"\"\n",
    "    rounded_value = round(value / interval) * interval\n",
    "    \n",
    "    return rounded_value\n",
    "\n",
    "\n",
    "\n",
    "def make_df_plot_from_stats(stats_d):\n",
    "    df_plot = pd.DataFrame(stats_d).T.round(4)\n",
    "    df_plot.columns = [\"mean\", \"std\"]\n",
    "    return df_plot\n",
    "\n",
    "\n",
    "def metric_skill_score(df_accs_baseline:pd.DataFrame, df_accs_model:pd.DataFrame, scenario_name:str):\n",
    "    \"\"\"\n",
    "    Calculated as follows\n",
    "    1 - (score_model / score_reference) and then we average over all systems\n",
    "    \"\"\"\n",
    "\n",
    "    \n",
    "    df_skill_scores = (1 - df_accs_model.div(df_accs_baseline))\n",
    "    mean = df_skill_scores.mean().to_frame(\"expected value_\" + scenario_name)\n",
    "\n",
    "    std = df_skill_scores.std().to_frame(\"standard deviation_\" + scenario_name)\n",
    "\n",
    "    out = pd.concat([mean, std], axis = 1)\n",
    "\n",
    "    return out\n",
    "\n",
    "\n",
    "\n",
    "\n",
    "def random_angle_init(\n",
    "                        df_meta:pd.DataFrame, \n",
    "                        df_power:pd.DataFrame,\n",
    "                        df_irr:pd.DataFrame,\n",
    "                        df_acc_baseline:pd.DataFrame,\n",
    "                        test_period_index: pd.date_range, \n",
    "                        lat, lon, tilt, azimuth, timesteplen,\n",
    "                        error_metric_list:list,\n",
    "                        tilt_bounds:tuple = (10,60), \n",
    "                        azimuth_bounds:tuple = (0,360),\n",
    "                        scenario_name = \"P3\"\n",
    "                        ):\n",
    "    \"\"\"\n",
    "    Use for scenarios in which angles are guessed by the aggregator. They are drawn *iters*-times from a uniform distribution for all systems within the optionally specified bounds.\n",
    "    Note: df_power and df_irr need to be in the global namespace of the file. \n",
    "    \"\"\"\n",
    "\n",
    "    df_meta_random = copy.deepcopy(df_meta)\n",
    "    random_tilts = np.random.randint(tilt_bounds[0], tilt_bounds[1], (df_meta_random.shape[0]))\n",
    "    random_azimuths = np.random.randint(azimuth_bounds[0], azimuth_bounds[1], (df_meta_random.shape[0]))\n",
    "    df_meta_random[\"tilt\"] = random_tilts\n",
    "    df_meta_random[\"azimuth\"] = random_azimuths\n",
    "    df_meta_compare = get_df_compare_physical(df_meta_random, df_power, df_irr, test_period_index= test_period_index)\n",
    "    df_meta_accs = calc_accuracies_from_df_compares(df_meta_compare, error_metric_list,lat, lon, tilt, azimuth, timesteplen)\n",
    "    df_skill_score = metric_skill_score(df_acc_baseline, df_meta_accs, scenario_name)\n",
    "    \n",
    "    return df_skill_score\n",
    "\n",
    "\n",
    "\n",
    "def acc_bar_plot(df_plot: pd.DataFrame):\n",
    "    today = datetime.datetime.today()\n",
    "    for i in range(df_plot.shape[0]):\n",
    "        means = df_plot.iloc[i].filter(like = \"exp\").sort_index()\n",
    "        stds = df_plot.iloc[i].filter(like = \"dev\").sort_index()\n",
    "        \n",
    "        # finding the scenario names for the x axis labels\n",
    "        idx = means.index\n",
    "        result = [re.findall(r'_(.*)', s)[0] for s in idx]\n",
    "        \n",
    "        \n",
    "        fig, ax = plt.subplots(figsize = (12,8))\n",
    "        ax.set_axisbelow(True)\n",
    "        ax.grid(axis = \"y\")\n",
    "        ax.bar(x = result, height = means, yerr =stds, capsize = 10)\n",
    "        ax.set_ylim(-1,1)\n",
    "        acc_score = means.name.replace(\"_\", \" \").title() + \" Skill-Score\"\n",
    "        ax.set_ylabel(acc_score)\n",
    "        fig.savefig(f\"../../../Results/Plots/{acc_score}_{today}_persistence_ref.pdf\")\n"
   ]
  },
  {
   "cell_type": "code",
   "execution_count": 35,
   "metadata": {},
   "outputs": [],
   "source": [
    "def euro_cost_metric(gt, prediction, prices):\n",
    "    pass"
   ]
  },
  {
   "cell_type": "code",
   "execution_count": 36,
   "metadata": {},
   "outputs": [],
   "source": [
    "# Importing and merging the meta data; the optimized one is based on the tilt and azimuth inference script i wrote. \n",
    "\n",
    "df_meta = pd.read_csv(\"../../../Input_Data/Meta_Data_PV_Optimised.csv\", index_col = 0)\n",
    "df_meta_original = pd.read_csv(\"../../../Data/System/PV system information dataset TU WIEN.csv\", sep = \";\", index_col = 0)\n",
    "df_meta_data = pd.merge(df_meta_original, df_meta, left_index=True, right_index=True)\n",
    "df_meta_data[\"tilt\"] = df_meta_data[\"tilt_finetuned\"] \n",
    "df_meta_data[\"azimuth\"] = df_meta_data[\"azimuth_finetuned\"]\n",
    "df_meta_data = df_meta_data.iloc[:,1:-2]\n",
    "\n"
   ]
  },
  {
   "cell_type": "code",
   "execution_count": 39,
   "metadata": {},
   "outputs": [],
   "source": [
    "df_meteo_sol = pd.read_csv(\"../../../Input_Data/ghi_dni_dhi.csv\", index_col=0, parse_dates=True).resample(\"15T\").mean() # more complete than the other one\n",
    "df_meteo_sol = df_meteo_sol[['ghi', 'dni', 'dhi']]\n",
    "df_irr = df_meteo_sol \n"
   ]
  },
  {
   "cell_type": "code",
   "execution_count": 26,
   "metadata": {},
   "outputs": [],
   "source": [
    "# This is weather station irradiance data from Utrecht. There are some data points missing and the data is generally more volatile. As a result the data from solcast, which is based on satelite imagery, was selected. \n",
    "\n",
    "#df_meteo = pd.read_csv(\"/Users/nikolaushouben/Library/Mobile Documents/com~apple~CloudDocs/PhD_Icloud/PhD_Papers/Paper_2_Collaborative Forecasting/Data/Meteo/irradiance_data-2014_2017.csv\", index_col=0, parse_dates=True)\n",
    "#df_meteo = df_meteo[['GHI', 'DNI', 'DHI']]\n",
    "#df_meteo.columns = ['ghi_', 'dni_', 'dhi_']\n",
    "#df_meteo = df_meteo.resample(\"15T\").mean()\n",
    "#df_irr = df_meteo\n",
    "#df_irr.index = df_irr.index.tz_localize(tz = None)\n"
   ]
  },
  {
   "cell_type": "code",
   "execution_count": 40,
   "metadata": {},
   "outputs": [],
   "source": [
    "df_power = pd.read_csv(\"../../../Input_Data/PV_System_Power.csv\", index_col=0, parse_dates=True).resample(\"15T\").mean()\n",
    "\n",
    "# For subsequent comparison we need to select only those timestamps which are present in both dataframes. \n",
    "df_irr = df_irr.reindex(df_power.index)\n",
    "df_irr = df_irr.dropna()\n",
    "df_power = df_power.reindex(df_irr.index).dropna()"
   ]
  },
  {
   "attachments": {},
   "cell_type": "markdown",
   "metadata": {},
   "source": [
    "### Major Design Choices and Initialisations\n"
   ]
  },
  {
   "cell_type": "code",
   "execution_count": 139,
   "metadata": {},
   "outputs": [],
   "source": [
    "\n",
    "# Everything is in 15-minute temporal resolution\n",
    "timesteplen = 15\n",
    "\n",
    "# This list collects al skill scores for the various data scenarios\n",
    "dfs_skill_score = []\n",
    "\n",
    "\n",
    "# Metrics used for accuracy (error) comparison\n",
    "error_metric_list = [mean_squared_error, mean_absolute_error]\n",
    "\n",
    "# Time period for which all forecast error scores are evaluated.\n",
    "test_period_index = pd.date_range(\"2015-02-15\", \"2015-03-15\", freq=\"15T\")\n",
    "\n",
    "# Getting the average meta data from all systems\n",
    "lat_mean, lon_mean, tilt_mean, azimuth_mean, cap_mean = df_meta_data.mean(axis = 0).values\n",
    "\n",
    "design_params = lat_mean, lon_mean, tilt_mean, azimuth_mean, timesteplen"
   ]
  },
  {
   "attachments": {},
   "cell_type": "markdown",
   "metadata": {},
   "source": [
    "# Benchmarks:\n"
   ]
  },
  {
   "attachments": {},
   "cell_type": "markdown",
   "metadata": {},
   "source": [
    "## Single System View"
   ]
  },
  {
   "attachments": {},
   "cell_type": "markdown",
   "metadata": {},
   "source": [
    "\n",
    "### 1) 48-Persistence\n",
    "\n",
    "\n"
   ]
  },
  {
   "cell_type": "code",
   "execution_count": 44,
   "metadata": {},
   "outputs": [],
   "source": [
    "timesteps_per_day = int(24*60/timesteplen)"
   ]
  },
  {
   "cell_type": "code",
   "execution_count": 73,
   "metadata": {},
   "outputs": [],
   "source": [
    "df_compares_persistence = []\n",
    "for col in df_power:\n",
    "    df_sys = df_power[[col]].shift(timesteps_per_day*2)\n",
    "    df_sys = df_sys.reindex(test_period_index).dropna()\n",
    "    df_sys.columns = [col + \"persistence_forecast\"]\n",
    "    df_compare_persistence = pd.merge(df_power[col], df_sys, left_index=True, right_index=True)\n",
    "    df_compares_persistence.append(df_compare_persistence)"
   ]
  },
  {
   "cell_type": "code",
   "execution_count": 85,
   "metadata": {},
   "outputs": [],
   "source": [
    "df_accs_persistence = calc_accuracies_from_df_compares(df_compares_persistence, error_metric_list, *design_params)\n",
    "\n"
   ]
  },
  {
   "attachments": {},
   "cell_type": "markdown",
   "metadata": {},
   "source": [
    "### 2) Linear Regression"
   ]
  },
  {
   "cell_type": "code",
   "execution_count": null,
   "metadata": {},
   "outputs": [],
   "source": [
    "\n",
    "df_compares_lr = []\n",
    "for col in df_power:\n",
    "    df_sys = df_power[[col]]\n",
    "    # [ghi, dni, dhi, power]\n",
    "    df_baseline = pd.concat([df_irr, df_sys], axis = 1).reindex(pd.date_range(df_power.index[0], df_power.index[-1], freq= \"15T\"))\n",
    "    train, test = df_baseline.drop(test_period_index, axis = 0).dropna(), df_baseline.loc[test_period_index].dropna()\n",
    "    X_train, y_train = train.iloc[:,:3] , train.iloc[:,-1:]\n",
    "    X_test, y_test = test.iloc[:,:3] , test.iloc[:,-1:]\n",
    "    model_baseline = XGBRegressor()\n",
    "    model_baseline.fit(X_train, y_train)\n",
    "    y_test[col + \"lr_forecast\"] = model_baseline.predict(X_test)\n",
    "\n",
    "    df_compares_lr.append(y_test)\n"
   ]
  },
  {
   "cell_type": "code",
   "execution_count": 96,
   "metadata": {},
   "outputs": [],
   "source": [
    "\n",
    "df_accs_lr = calc_accuracies_from_df_compares(df_compares_lr, error_metric_list, *design_params)\n"
   ]
  },
  {
   "attachments": {},
   "cell_type": "markdown",
   "metadata": {},
   "source": [
    "The below code shows that it is not the same to first do the accuarcy calculation and then aggregate it as first aggregating forecasts and measurements and then carrying out the accuracy calculation.\n",
    "This is because of the non-linear operations in the accuracy metrics (e.g., square root and square) "
   ]
  },
  {
   "cell_type": "code",
   "execution_count": 99,
   "metadata": {},
   "outputs": [],
   "source": [
    "list_forecasts = []\n",
    "list_measurements = []\n",
    "\n",
    "for df_compare in df_compares_lr:\n",
    "    list_measurements.append(df_compare.iloc[:, :1])\n",
    "    list_forecasts.append(df_compare.iloc[:, 1:])\n",
    "\n",
    "df_forecast_lr = pd.concat(list_forecasts, axis = 1).sum(axis = 1)\n",
    "df_measurements_lr = pd.concat(list_measurements, axis = 1).sum(axis = 1)\n",
    "\n",
    "df_compares_dis_to_agg = [pd.concat([df_measurements_lr, df_forecast_lr], axis = 1)]\n",
    "\n",
    "calc_accuracies_from_df_compares(df_compares_dis_to_agg, error_metric_list, *design_params)"
   ]
  },
  {
   "attachments": {},
   "cell_type": "markdown",
   "metadata": {},
   "source": [
    "## Aggregated View\n",
    "\n",
    "It turns out that for a linear model it does not matter if we perform the forecast on the aggregated values or not.\n",
    "For a non-linear model like the XGBoost Regression, however, it does matter, with the model on the aggregated data winning ever so slightly. "
   ]
  },
  {
   "attachments": {},
   "cell_type": "markdown",
   "metadata": {},
   "source": [
    "### Linear Regression"
   ]
  },
  {
   "cell_type": "code",
   "execution_count": 101,
   "metadata": {},
   "outputs": [
    {
     "name": "stderr",
     "output_type": "stream",
     "text": [
      "/var/folders/35/267ql_w95qlgmrzwgprns44w0000gn/T/ipykernel_19184/3693049392.py:8: SettingWithCopyWarning:\n",
      "\n",
      "\n",
      "A value is trying to be set on a copy of a slice from a DataFrame.\n",
      "Try using .loc[row_indexer,col_indexer] = value instead\n",
      "\n",
      "See the caveats in the documentation: https://pandas.pydata.org/pandas-docs/stable/user_guide/indexing.html#returning-a-view-versus-a-copy\n",
      "\n"
     ]
    },
    {
     "data": {
      "text/html": [
       "<div>\n",
       "<style scoped>\n",
       "    .dataframe tbody tr th:only-of-type {\n",
       "        vertical-align: middle;\n",
       "    }\n",
       "\n",
       "    .dataframe tbody tr th {\n",
       "        vertical-align: top;\n",
       "    }\n",
       "\n",
       "    .dataframe thead th {\n",
       "        text-align: right;\n",
       "    }\n",
       "</style>\n",
       "<table border=\"1\" class=\"dataframe\">\n",
       "  <thead>\n",
       "    <tr style=\"text-align: right;\">\n",
       "      <th></th>\n",
       "      <th>mean_absolute_error</th>\n",
       "      <th>root_mean_squared_error</th>\n",
       "    </tr>\n",
       "  </thead>\n",
       "  <tbody>\n",
       "    <tr>\n",
       "      <th>0</th>\n",
       "      <td>4547.97229</td>\n",
       "      <td>82.276337</td>\n",
       "    </tr>\n",
       "  </tbody>\n",
       "</table>\n",
       "</div>"
      ],
      "text/plain": [
       "  mean_absolute_error  root_mean_squared_error\n",
       "0          4547.97229                82.276337"
      ]
     },
     "execution_count": 101,
     "metadata": {},
     "output_type": "execute_result"
    }
   ],
   "source": [
    "# [ghi, dni, dhi, power]\n",
    "df_baseline = pd.concat([df_irr, df_power.sum(axis=1)], axis = 1).reindex(pd.date_range(df_power.index[0], df_power.index[-1], freq= \"15T\"))\n",
    "train, test = df_baseline.drop(test_period_index, axis = 0).dropna(), df_baseline.loc[test_period_index].dropna()\n",
    "X_train, y_train = train.iloc[:,:3] , train.iloc[:,-1:]\n",
    "X_test, y_test = test.iloc[:,:3] , test.iloc[:,-1:]\n",
    "model_baseline = XGBRegressor()\n",
    "model_baseline.fit(X_train, y_train)\n",
    "y_test[col + \"lr_forecast\"] = model_baseline.predict(X_test)\n",
    "\n",
    "df_compares_lr_agg = [y_test]\n",
    "\n",
    "df_accs_lr_agg = calc_accuracies_from_df_compares(df_compares_lr_agg, error_metric_list, *design_params)\n",
    "\n",
    "df_accs_lr_agg"
   ]
  },
  {
   "cell_type": "markdown",
   "metadata": {},
   "source": [
    "# Physical Modelling"
   ]
  },
  {
   "attachments": {},
   "cell_type": "markdown",
   "metadata": {},
   "source": [
    "## 1) P1-OMNI (Everything is known)"
   ]
  },
  {
   "cell_type": "code",
   "execution_count": 114,
   "metadata": {},
   "outputs": [],
   "source": [
    "df_compares_best_case_physical = get_df_compare_physical(df_meta_data, df_power, df_irr, test_period_index)\n",
    "df_accs_best = calc_accuracies_from_df_compares(df_compares_best_case_physical, error_metric_list, *design_params)\n"
   ]
  },
  {
   "cell_type": "code",
   "execution_count": 140,
   "metadata": {},
   "outputs": [
    {
     "name": "stdout",
     "output_type": "stream",
     "text": [
      "[                         expected value_P1  standard deviation_P1\n",
      "mean_absolute_error               0.573885               0.118397\n",
      "root_mean_squared_error           0.318915               0.074985]\n"
     ]
    }
   ],
   "source": [
    "scenario_name = \"P1\"\n",
    "dfs_skill_score.append(metric_skill_score(df_accs_persistence, df_accs_best, scenario_name))\n",
    "print(dfs_skill_score)"
   ]
  },
  {
   "attachments": {},
   "cell_type": "markdown",
   "metadata": {},
   "source": [
    "## 2) P2-REAL (Angle Estimation by the Installer, Exact Location)"
   ]
  },
  {
   "cell_type": "code",
   "execution_count": 116,
   "metadata": {},
   "outputs": [],
   "source": [
    "\n",
    "# since we are making some major changes we need a deep copy\n",
    "df_meta_data_realistic_case = copy.deepcopy(df_meta_data)\n",
    "#modifying the tilt angle based on estimation\n",
    "df_meta_data_realistic_case[\"tilt\"] = df_meta_data_realistic_case[\"tilt\"].apply(lambda x: realistic_case_round(x, 10))\n",
    "df_meta_data_realistic_case[\"azimuth\"] = df_meta_data_realistic_case[\"azimuth\"].apply(lambda x: realistic_case_round(x, 45)) #modifying the azimuth angle based on estimation\n",
    "df_compares_realistic_case_physical = get_df_compare_physical(df_meta_data_realistic_case, df_power, df_irr, test_period_index)\n",
    "df_acc_real = calc_accuracies_from_df_compares(df_compares_realistic_case_physical, error_metric_list, *design_params)"
   ]
  },
  {
   "cell_type": "code",
   "execution_count": 141,
   "metadata": {},
   "outputs": [
    {
     "data": {
      "text/html": [
       "<div>\n",
       "<style scoped>\n",
       "    .dataframe tbody tr th:only-of-type {\n",
       "        vertical-align: middle;\n",
       "    }\n",
       "\n",
       "    .dataframe tbody tr th {\n",
       "        vertical-align: top;\n",
       "    }\n",
       "\n",
       "    .dataframe thead th {\n",
       "        text-align: right;\n",
       "    }\n",
       "</style>\n",
       "<table border=\"1\" class=\"dataframe\">\n",
       "  <thead>\n",
       "    <tr style=\"text-align: right;\">\n",
       "      <th></th>\n",
       "      <th>expected value_P1</th>\n",
       "      <th>standard deviation_P1</th>\n",
       "      <th>expected value_P2</th>\n",
       "      <th>standard deviation_P2</th>\n",
       "    </tr>\n",
       "  </thead>\n",
       "  <tbody>\n",
       "    <tr>\n",
       "      <th>mean_absolute_error</th>\n",
       "      <td>0.573885</td>\n",
       "      <td>0.118397</td>\n",
       "      <td>0.549860</td>\n",
       "      <td>0.130099</td>\n",
       "    </tr>\n",
       "    <tr>\n",
       "      <th>root_mean_squared_error</th>\n",
       "      <td>0.318915</td>\n",
       "      <td>0.074985</td>\n",
       "      <td>0.305623</td>\n",
       "      <td>0.080841</td>\n",
       "    </tr>\n",
       "  </tbody>\n",
       "</table>\n",
       "</div>"
      ],
      "text/plain": [
       "                         expected value_P1  standard deviation_P1  \\\n",
       "mean_absolute_error               0.573885               0.118397   \n",
       "root_mean_squared_error           0.318915               0.074985   \n",
       "\n",
       "                         expected value_P2  standard deviation_P2  \n",
       "mean_absolute_error               0.549860               0.130099  \n",
       "root_mean_squared_error           0.305623               0.080841  "
      ]
     },
     "execution_count": 141,
     "metadata": {},
     "output_type": "execute_result"
    }
   ],
   "source": [
    "scenario_name =  \"P2\"\n",
    "dfs_skill_score.append(metric_skill_score(df_accs_persistence, df_acc_real,scenario_name))\n",
    "pd.concat(dfs_skill_score, axis = 1)"
   ]
  },
  {
   "cell_type": "code",
   "execution_count": 118,
   "metadata": {},
   "outputs": [
    {
     "data": {
      "text/html": [
       "<div>\n",
       "<style scoped>\n",
       "    .dataframe tbody tr th:only-of-type {\n",
       "        vertical-align: middle;\n",
       "    }\n",
       "\n",
       "    .dataframe tbody tr th {\n",
       "        vertical-align: top;\n",
       "    }\n",
       "\n",
       "    .dataframe thead th {\n",
       "        text-align: right;\n",
       "    }\n",
       "</style>\n",
       "<table border=\"1\" class=\"dataframe\">\n",
       "  <thead>\n",
       "    <tr style=\"text-align: right;\">\n",
       "      <th></th>\n",
       "      <th>expected value_P1</th>\n",
       "      <th>standard deviation_P1</th>\n",
       "      <th>expected value_P2</th>\n",
       "      <th>standard deviation_P2</th>\n",
       "    </tr>\n",
       "  </thead>\n",
       "  <tbody>\n",
       "    <tr>\n",
       "      <th>mean_absolute_error</th>\n",
       "      <td>0.573885</td>\n",
       "      <td>0.118397</td>\n",
       "      <td>0.549860</td>\n",
       "      <td>0.130099</td>\n",
       "    </tr>\n",
       "    <tr>\n",
       "      <th>root_mean_squared_error</th>\n",
       "      <td>0.318915</td>\n",
       "      <td>0.074985</td>\n",
       "      <td>0.305623</td>\n",
       "      <td>0.080841</td>\n",
       "    </tr>\n",
       "  </tbody>\n",
       "</table>\n",
       "</div>"
      ],
      "text/plain": [
       "                         expected value_P1  standard deviation_P1  \\\n",
       "mean_absolute_error               0.573885               0.118397   \n",
       "root_mean_squared_error           0.318915               0.074985   \n",
       "\n",
       "                         expected value_P2  standard deviation_P2  \n",
       "mean_absolute_error               0.549860               0.130099  \n",
       "root_mean_squared_error           0.305623               0.080841  "
      ]
     },
     "execution_count": 118,
     "metadata": {},
     "output_type": "execute_result"
    }
   ],
   "source": []
  },
  {
   "attachments": {},
   "cell_type": "markdown",
   "metadata": {},
   "source": [
    "## 3) P3-LOC Known Angles but average location of the area"
   ]
  },
  {
   "cell_type": "code",
   "execution_count": 119,
   "metadata": {},
   "outputs": [],
   "source": [
    "scenario_name = \"P3\"\n",
    "df_meta_data_p3 = df_meta_data.copy()\n",
    "df_meta_data_p3[[\"latitude\", \"longitude\"]] = lat_mean, lon_mean\n",
    "df_compares_p3 = get_df_compare_physical(df_meta_data_p3, df_power, df_irr, test_period_index)\n",
    "df_acc_p3 = calc_accuracies_from_df_compares(df_compares_p3, error_metric_list, *design_params)"
   ]
  },
  {
   "cell_type": "code",
   "execution_count": 153,
   "metadata": {},
   "outputs": [
    {
     "data": {
      "text/html": [
       "<div>\n",
       "<style scoped>\n",
       "    .dataframe tbody tr th:only-of-type {\n",
       "        vertical-align: middle;\n",
       "    }\n",
       "\n",
       "    .dataframe tbody tr th {\n",
       "        vertical-align: top;\n",
       "    }\n",
       "\n",
       "    .dataframe thead th {\n",
       "        text-align: right;\n",
       "    }\n",
       "</style>\n",
       "<table border=\"1\" class=\"dataframe\">\n",
       "  <thead>\n",
       "    <tr style=\"text-align: right;\">\n",
       "      <th></th>\n",
       "      <th>mean_absolute_error</th>\n",
       "      <th>root_mean_squared_error</th>\n",
       "    </tr>\n",
       "  </thead>\n",
       "  <tbody>\n",
       "    <tr>\n",
       "      <th>151</th>\n",
       "      <td>132.31984</td>\n",
       "      <td>14.662829</td>\n",
       "    </tr>\n",
       "    <tr>\n",
       "      <th>152</th>\n",
       "      <td>266.326825</td>\n",
       "      <td>20.278292</td>\n",
       "    </tr>\n",
       "    <tr>\n",
       "      <th>154</th>\n",
       "      <td>20.475366</td>\n",
       "      <td>5.422798</td>\n",
       "    </tr>\n",
       "    <tr>\n",
       "      <th>175</th>\n",
       "      <td>28.264761</td>\n",
       "      <td>6.593544</td>\n",
       "    </tr>\n",
       "    <tr>\n",
       "      <th>188</th>\n",
       "      <td>91.270359</td>\n",
       "      <td>11.638494</td>\n",
       "    </tr>\n",
       "    <tr>\n",
       "      <th>192</th>\n",
       "      <td>298.466125</td>\n",
       "      <td>20.240402</td>\n",
       "    </tr>\n",
       "    <tr>\n",
       "      <th>194</th>\n",
       "      <td>29.910224</td>\n",
       "      <td>6.670310</td>\n",
       "    </tr>\n",
       "    <tr>\n",
       "      <th>195</th>\n",
       "      <td>33.843372</td>\n",
       "      <td>6.987374</td>\n",
       "    </tr>\n",
       "    <tr>\n",
       "      <th>207</th>\n",
       "      <td>99.627759</td>\n",
       "      <td>12.681293</td>\n",
       "    </tr>\n",
       "    <tr>\n",
       "      <th>223</th>\n",
       "      <td>184.120339</td>\n",
       "      <td>17.131374</td>\n",
       "    </tr>\n",
       "    <tr>\n",
       "      <th>251</th>\n",
       "      <td>207.131316</td>\n",
       "      <td>16.840611</td>\n",
       "    </tr>\n",
       "    <tr>\n",
       "      <th>281</th>\n",
       "      <td>64.589474</td>\n",
       "      <td>9.891448</td>\n",
       "    </tr>\n",
       "    <tr>\n",
       "      <th>294</th>\n",
       "      <td>104.899986</td>\n",
       "      <td>13.155737</td>\n",
       "    </tr>\n",
       "    <tr>\n",
       "      <th>308</th>\n",
       "      <td>117.955946</td>\n",
       "      <td>13.055463</td>\n",
       "    </tr>\n",
       "    <tr>\n",
       "      <th>329</th>\n",
       "      <td>332.621805</td>\n",
       "      <td>23.275764</td>\n",
       "    </tr>\n",
       "    <tr>\n",
       "      <th>334</th>\n",
       "      <td>84.58624</td>\n",
       "      <td>11.987366</td>\n",
       "    </tr>\n",
       "    <tr>\n",
       "      <th>353</th>\n",
       "      <td>427.671094</td>\n",
       "      <td>24.755840</td>\n",
       "    </tr>\n",
       "    <tr>\n",
       "      <th>370</th>\n",
       "      <td>388.517643</td>\n",
       "      <td>24.845058</td>\n",
       "    </tr>\n",
       "    <tr>\n",
       "      <th>383</th>\n",
       "      <td>97.915943</td>\n",
       "      <td>12.563875</td>\n",
       "    </tr>\n",
       "    <tr>\n",
       "      <th>384</th>\n",
       "      <td>426.813419</td>\n",
       "      <td>26.085281</td>\n",
       "    </tr>\n",
       "    <tr>\n",
       "      <th>389</th>\n",
       "      <td>128.947454</td>\n",
       "      <td>14.033846</td>\n",
       "    </tr>\n",
       "    <tr>\n",
       "      <th>395</th>\n",
       "      <td>186.973103</td>\n",
       "      <td>16.171703</td>\n",
       "    </tr>\n",
       "    <tr>\n",
       "      <th>410</th>\n",
       "      <td>194.152687</td>\n",
       "      <td>17.269249</td>\n",
       "    </tr>\n",
       "    <tr>\n",
       "      <th>412</th>\n",
       "      <td>343.223266</td>\n",
       "      <td>23.159943</td>\n",
       "    </tr>\n",
       "    <tr>\n",
       "      <th>432</th>\n",
       "      <td>300.850168</td>\n",
       "      <td>21.762842</td>\n",
       "    </tr>\n",
       "    <tr>\n",
       "      <th>436</th>\n",
       "      <td>162.726337</td>\n",
       "      <td>16.468832</td>\n",
       "    </tr>\n",
       "    <tr>\n",
       "      <th>438</th>\n",
       "      <td>203.107689</td>\n",
       "      <td>17.711838</td>\n",
       "    </tr>\n",
       "    <tr>\n",
       "      <th>444</th>\n",
       "      <td>89.386211</td>\n",
       "      <td>11.890891</td>\n",
       "    </tr>\n",
       "    <tr>\n",
       "      <th>453</th>\n",
       "      <td>101.346813</td>\n",
       "      <td>12.933672</td>\n",
       "    </tr>\n",
       "    <tr>\n",
       "      <th>487</th>\n",
       "      <td>67.17304</td>\n",
       "      <td>10.413065</td>\n",
       "    </tr>\n",
       "    <tr>\n",
       "      <th>499</th>\n",
       "      <td>217.559135</td>\n",
       "      <td>18.966410</td>\n",
       "    </tr>\n",
       "    <tr>\n",
       "      <th>523</th>\n",
       "      <td>226.377114</td>\n",
       "      <td>18.842800</td>\n",
       "    </tr>\n",
       "    <tr>\n",
       "      <th>550</th>\n",
       "      <td>237.174622</td>\n",
       "      <td>18.829115</td>\n",
       "    </tr>\n",
       "    <tr>\n",
       "      <th>601</th>\n",
       "      <td>201.501793</td>\n",
       "      <td>17.402388</td>\n",
       "    </tr>\n",
       "  </tbody>\n",
       "</table>\n",
       "</div>"
      ],
      "text/plain": [
       "    mean_absolute_error  root_mean_squared_error\n",
       "151           132.31984                14.662829\n",
       "152          266.326825                20.278292\n",
       "154           20.475366                 5.422798\n",
       "175           28.264761                 6.593544\n",
       "188           91.270359                11.638494\n",
       "192          298.466125                20.240402\n",
       "194           29.910224                 6.670310\n",
       "195           33.843372                 6.987374\n",
       "207           99.627759                12.681293\n",
       "223          184.120339                17.131374\n",
       "251          207.131316                16.840611\n",
       "281           64.589474                 9.891448\n",
       "294          104.899986                13.155737\n",
       "308          117.955946                13.055463\n",
       "329          332.621805                23.275764\n",
       "334            84.58624                11.987366\n",
       "353          427.671094                24.755840\n",
       "370          388.517643                24.845058\n",
       "383           97.915943                12.563875\n",
       "384          426.813419                26.085281\n",
       "389          128.947454                14.033846\n",
       "395          186.973103                16.171703\n",
       "410          194.152687                17.269249\n",
       "412          343.223266                23.159943\n",
       "432          300.850168                21.762842\n",
       "436          162.726337                16.468832\n",
       "438          203.107689                17.711838\n",
       "444           89.386211                11.890891\n",
       "453          101.346813                12.933672\n",
       "487            67.17304                10.413065\n",
       "499          217.559135                18.966410\n",
       "523          226.377114                18.842800\n",
       "550          237.174622                18.829115\n",
       "601          201.501793                17.402388"
      ]
     },
     "execution_count": 153,
     "metadata": {},
     "output_type": "execute_result"
    }
   ],
   "source": [
    "df_acc_p3"
   ]
  },
  {
   "cell_type": "code",
   "execution_count": 142,
   "metadata": {},
   "outputs": [
    {
     "data": {
      "text/html": [
       "<div>\n",
       "<style scoped>\n",
       "    .dataframe tbody tr th:only-of-type {\n",
       "        vertical-align: middle;\n",
       "    }\n",
       "\n",
       "    .dataframe tbody tr th {\n",
       "        vertical-align: top;\n",
       "    }\n",
       "\n",
       "    .dataframe thead th {\n",
       "        text-align: right;\n",
       "    }\n",
       "</style>\n",
       "<table border=\"1\" class=\"dataframe\">\n",
       "  <thead>\n",
       "    <tr style=\"text-align: right;\">\n",
       "      <th></th>\n",
       "      <th>expected value_P1</th>\n",
       "      <th>standard deviation_P1</th>\n",
       "      <th>expected value_P2</th>\n",
       "      <th>standard deviation_P2</th>\n",
       "      <th>expected value_P3</th>\n",
       "      <th>standard deviation_P3</th>\n",
       "    </tr>\n",
       "  </thead>\n",
       "  <tbody>\n",
       "    <tr>\n",
       "      <th>mean_absolute_error</th>\n",
       "      <td>0.573885</td>\n",
       "      <td>0.118397</td>\n",
       "      <td>0.549860</td>\n",
       "      <td>0.130099</td>\n",
       "      <td>0.574297</td>\n",
       "      <td>0.118185</td>\n",
       "    </tr>\n",
       "    <tr>\n",
       "      <th>root_mean_squared_error</th>\n",
       "      <td>0.318915</td>\n",
       "      <td>0.074985</td>\n",
       "      <td>0.305623</td>\n",
       "      <td>0.080841</td>\n",
       "      <td>0.319021</td>\n",
       "      <td>0.074987</td>\n",
       "    </tr>\n",
       "  </tbody>\n",
       "</table>\n",
       "</div>"
      ],
      "text/plain": [
       "                         expected value_P1  standard deviation_P1  \\\n",
       "mean_absolute_error               0.573885               0.118397   \n",
       "root_mean_squared_error           0.318915               0.074985   \n",
       "\n",
       "                         expected value_P2  standard deviation_P2  \\\n",
       "mean_absolute_error               0.549860               0.130099   \n",
       "root_mean_squared_error           0.305623               0.080841   \n",
       "\n",
       "                         expected value_P3  standard deviation_P3  \n",
       "mean_absolute_error               0.574297               0.118185  \n",
       "root_mean_squared_error           0.319021               0.074987  "
      ]
     },
     "execution_count": 142,
     "metadata": {},
     "output_type": "execute_result"
    }
   ],
   "source": [
    "scenario_name =  \"P3\"\n",
    "dfs_skill_score.append(metric_skill_score(df_accs_persistence, df_acc_p3,scenario_name))\n",
    "pd.concat(dfs_skill_score, axis = 1)"
   ]
  },
  {
   "cell_type": "code",
   "execution_count": null,
   "metadata": {},
   "outputs": [],
   "source": []
  },
  {
   "cell_type": "markdown",
   "metadata": {},
   "source": [
    "## 4) P4-CAP"
   ]
  },
  {
   "cell_type": "code",
   "execution_count": 122,
   "metadata": {},
   "outputs": [],
   "source": [
    "df_meta_data_p4 = copy.deepcopy(df_meta_data)\n",
    "df_meta_data_p4[\"estimated capacity\"] = cap_mean\n",
    "df_compares_p4 = get_df_compare_physical(df_meta_data_p4, df_power, df_irr, test_period_index)\n",
    "df_acc_p4 = calc_accuracies_from_df_compares(df_compares_p4, error_metric_list, *design_params)\n",
    "\n"
   ]
  },
  {
   "cell_type": "code",
   "execution_count": 163,
   "metadata": {},
   "outputs": [
    {
     "data": {
      "text/plain": [
       "mean_absolute_error        368.380665\n",
       "root_mean_squared_error     22.024227\n",
       "dtype: float64"
      ]
     },
     "execution_count": 163,
     "metadata": {},
     "output_type": "execute_result"
    }
   ],
   "source": [
    "df_acc_p4.mean()"
   ]
  },
  {
   "cell_type": "code",
   "execution_count": 143,
   "metadata": {},
   "outputs": [
    {
     "data": {
      "text/html": [
       "<div>\n",
       "<style scoped>\n",
       "    .dataframe tbody tr th:only-of-type {\n",
       "        vertical-align: middle;\n",
       "    }\n",
       "\n",
       "    .dataframe tbody tr th {\n",
       "        vertical-align: top;\n",
       "    }\n",
       "\n",
       "    .dataframe thead th {\n",
       "        text-align: right;\n",
       "    }\n",
       "</style>\n",
       "<table border=\"1\" class=\"dataframe\">\n",
       "  <thead>\n",
       "    <tr style=\"text-align: right;\">\n",
       "      <th></th>\n",
       "      <th>expected value_P1</th>\n",
       "      <th>standard deviation_P1</th>\n",
       "      <th>expected value_P2</th>\n",
       "      <th>standard deviation_P2</th>\n",
       "      <th>expected value_P3</th>\n",
       "      <th>standard deviation_P3</th>\n",
       "      <th>expected value_P4</th>\n",
       "      <th>standard deviation_P4</th>\n",
       "    </tr>\n",
       "  </thead>\n",
       "  <tbody>\n",
       "    <tr>\n",
       "      <th>mean_absolute_error</th>\n",
       "      <td>0.573885</td>\n",
       "      <td>0.118397</td>\n",
       "      <td>0.549860</td>\n",
       "      <td>0.130099</td>\n",
       "      <td>0.574297</td>\n",
       "      <td>0.118185</td>\n",
       "      <td>-0.922021</td>\n",
       "      <td>3.265201</td>\n",
       "    </tr>\n",
       "    <tr>\n",
       "      <th>root_mean_squared_error</th>\n",
       "      <td>0.318915</td>\n",
       "      <td>0.074985</td>\n",
       "      <td>0.305623</td>\n",
       "      <td>0.080841</td>\n",
       "      <td>0.319021</td>\n",
       "      <td>0.074987</td>\n",
       "      <td>-0.135631</td>\n",
       "      <td>0.763049</td>\n",
       "    </tr>\n",
       "  </tbody>\n",
       "</table>\n",
       "</div>"
      ],
      "text/plain": [
       "                         expected value_P1  standard deviation_P1  \\\n",
       "mean_absolute_error               0.573885               0.118397   \n",
       "root_mean_squared_error           0.318915               0.074985   \n",
       "\n",
       "                         expected value_P2  standard deviation_P2  \\\n",
       "mean_absolute_error               0.549860               0.130099   \n",
       "root_mean_squared_error           0.305623               0.080841   \n",
       "\n",
       "                         expected value_P3  standard deviation_P3  \\\n",
       "mean_absolute_error               0.574297               0.118185   \n",
       "root_mean_squared_error           0.319021               0.074987   \n",
       "\n",
       "                         expected value_P4  standard deviation_P4  \n",
       "mean_absolute_error              -0.922021               3.265201  \n",
       "root_mean_squared_error          -0.135631               0.763049  "
      ]
     },
     "execution_count": 143,
     "metadata": {},
     "output_type": "execute_result"
    }
   ],
   "source": [
    "scenario_name = \"P4\"\n",
    "dfs_skill_score.append(metric_skill_score(df_accs_persistence, df_acc_p4,scenario_name))\n",
    "pd.concat(dfs_skill_score, axis = 1)\n",
    "\n"
   ]
  },
  {
   "cell_type": "markdown",
   "metadata": {},
   "source": [
    "## 5) P5-UNK (Random Guessing of Angle, Average Locations and Capacity)"
   ]
  },
  {
   "cell_type": "code",
   "execution_count": 124,
   "metadata": {},
   "outputs": [],
   "source": [
    "\n",
    "scenario_name = \"P5\"\n",
    "it = 10\n",
    "\n",
    "skill_scores_rand =  []\n",
    "for i in range(it):\n",
    "    df_meta_copy = copy.deepcopy(df_meta_data_realistic_case)\n",
    "\n",
    "    df_meta_copy[\"latitude\"] = lat_mean\n",
    "    df_meta_copy[\"longitude\"] = lon_mean\n",
    "    df_meta_copy[\"estimated capacity\"] = cap_mean\n",
    "\n",
    "    df_skill_score = random_angle_init(df_meta_data, df_power, df_irr,df_accs_persistence, test_period_index, lat_mean, lon_mean, tilt_mean, azimuth_mean, timesteplen, error_metric_list)\n",
    "    skill_scores_rand.append(df_skill_score)\n"
   ]
  },
  {
   "cell_type": "code",
   "execution_count": 144,
   "metadata": {},
   "outputs": [],
   "source": [
    "scenario_name = \"P5\"\n",
    "df_concated  = pd.concat(skill_scores_rand, axis = 1)\n",
    "mean_of_expected = df_concated.filter(like = \"expected\").mean(axis=1).to_frame(\"expected value_\" + scenario_name)\n",
    "mean_of_std = df_concated.filter(like = \"standard\").mean(axis=1).to_frame(\"standard deviation_\" + scenario_name)\n",
    "dfs_skill_score.append(pd.concat([mean_of_expected, mean_of_std], axis =1))"
   ]
  },
  {
   "cell_type": "code",
   "execution_count": 145,
   "metadata": {},
   "outputs": [],
   "source": [
    "df_plot = pd.concat(dfs_skill_score, axis = 1)"
   ]
  },
  {
   "cell_type": "code",
   "execution_count": 152,
   "metadata": {},
   "outputs": [
    {
     "data": {
      "text/html": [
       "<div>\n",
       "<style scoped>\n",
       "    .dataframe tbody tr th:only-of-type {\n",
       "        vertical-align: middle;\n",
       "    }\n",
       "\n",
       "    .dataframe tbody tr th {\n",
       "        vertical-align: top;\n",
       "    }\n",
       "\n",
       "    .dataframe thead th {\n",
       "        text-align: right;\n",
       "    }\n",
       "</style>\n",
       "<table border=\"1\" class=\"dataframe\">\n",
       "  <thead>\n",
       "    <tr style=\"text-align: right;\">\n",
       "      <th></th>\n",
       "      <th>expected value_P1</th>\n",
       "      <th>standard deviation_P1</th>\n",
       "      <th>expected value_P2</th>\n",
       "      <th>standard deviation_P2</th>\n",
       "      <th>expected value_P3</th>\n",
       "      <th>standard deviation_P3</th>\n",
       "      <th>expected value_P4</th>\n",
       "      <th>standard deviation_P4</th>\n",
       "      <th>expected value_P5</th>\n",
       "      <th>standard deviation_P5</th>\n",
       "    </tr>\n",
       "  </thead>\n",
       "  <tbody>\n",
       "    <tr>\n",
       "      <th>mean_absolute_error</th>\n",
       "      <td>0.573885</td>\n",
       "      <td>0.118397</td>\n",
       "      <td>0.549860</td>\n",
       "      <td>0.130099</td>\n",
       "      <td>0.574297</td>\n",
       "      <td>0.118185</td>\n",
       "      <td>-0.922021</td>\n",
       "      <td>3.265201</td>\n",
       "      <td>0.206794</td>\n",
       "      <td>0.269338</td>\n",
       "    </tr>\n",
       "    <tr>\n",
       "      <th>root_mean_squared_error</th>\n",
       "      <td>0.318915</td>\n",
       "      <td>0.074985</td>\n",
       "      <td>0.305623</td>\n",
       "      <td>0.080841</td>\n",
       "      <td>0.319021</td>\n",
       "      <td>0.074987</td>\n",
       "      <td>-0.135631</td>\n",
       "      <td>0.763049</td>\n",
       "      <td>0.092751</td>\n",
       "      <td>0.152732</td>\n",
       "    </tr>\n",
       "  </tbody>\n",
       "</table>\n",
       "</div>"
      ],
      "text/plain": [
       "                         expected value_P1  standard deviation_P1  \\\n",
       "mean_absolute_error               0.573885               0.118397   \n",
       "root_mean_squared_error           0.318915               0.074985   \n",
       "\n",
       "                         expected value_P2  standard deviation_P2  \\\n",
       "mean_absolute_error               0.549860               0.130099   \n",
       "root_mean_squared_error           0.305623               0.080841   \n",
       "\n",
       "                         expected value_P3  standard deviation_P3  \\\n",
       "mean_absolute_error               0.574297               0.118185   \n",
       "root_mean_squared_error           0.319021               0.074987   \n",
       "\n",
       "                         expected value_P4  standard deviation_P4  \\\n",
       "mean_absolute_error              -0.922021               3.265201   \n",
       "root_mean_squared_error          -0.135631               0.763049   \n",
       "\n",
       "                         expected value_P5  standard deviation_P5  \n",
       "mean_absolute_error               0.206794               0.269338  \n",
       "root_mean_squared_error           0.092751               0.152732  "
      ]
     },
     "execution_count": 152,
     "metadata": {},
     "output_type": "execute_result"
    }
   ],
   "source": [
    "df_plot"
   ]
  },
  {
   "cell_type": "markdown",
   "metadata": {},
   "source": [
    "## Plotting Results"
   ]
  },
  {
   "cell_type": "code",
   "execution_count": 145,
   "metadata": {},
   "outputs": [
    {
     "data": {
      "text/plain": [
       "'/Users/nikolaushouben/Library/Mobile Documents/com~apple~CloudDocs/PhD_Icloud/PhD_Papers/Paper_2_Collaborative Forecasting/Code/Collaborative_PV_Forecasting/notebooks'"
      ]
     },
     "execution_count": 145,
     "metadata": {},
     "output_type": "execute_result"
    }
   ],
   "source": [
    "os.getcwd()"
   ]
  },
  {
   "cell_type": "code",
   "execution_count": 146,
   "metadata": {},
   "outputs": [],
   "source": []
  },
  {
   "cell_type": "code",
   "execution_count": 150,
   "metadata": {},
   "outputs": [
    {
     "data": {
      "image/png": "[encoded data removed]",
      "text/plain": [
       "<Figure size 1200x800 with 1 Axes>"
      ]
     },
     "metadata": {},
     "output_type": "display_data"
    },
    {
     "data": {
      "image/png": "[encoded data removed]",
      "text/plain": [
       "<Figure size 1200x800 with 1 Axes>"
      ]
     },
     "metadata": {},
     "output_type": "display_data"
    }
   ],
   "source": [
    "acc_bar_plot(df_plot)"
   ]
  },
  {
   "cell_type": "markdown",
   "metadata": {},
   "source": [
    "# ML Modelling"
   ]
  },
  {
   "cell_type": "code",
   "execution_count": 214,
   "metadata": {},
   "outputs": [],
   "source": [
    "\n",
    "\n",
    "def get_accuracies_per_month(df, model_type, metrics:list = None):\n",
    "\n",
    "    accuracy_dictionary = {}\n",
    "\n",
    "    start_date = df.index[0]\n",
    "    test_begin = df.index[-1] - pd.Timedelta(days = 30)\n",
    "    for month in range(1,12):\n",
    "        train_end = start_date + pd.Timedelta(weeks = 4*month)\n",
    "\n",
    "        assert train_end < test_begin, \"Reduce the number of months, so a test period remains.\"\n",
    "        train = df[start_date:train_end]\n",
    "\n",
    "        test = df[test_begin:]\n",
    "\n",
    "\n",
    "        scaler_ml_features = MinMaxScaler()\n",
    "        scaler_ml_target = MinMaxScaler()\n",
    "\n",
    "        X_train, y_train = scaler_ml_features.fit_transform(train.iloc[:,1:]), scaler_ml_target.fit_transform(train.iloc[:,:1])\n",
    "        X_test, y_test = scaler_ml_features.transform(test.iloc[:,1:]), scaler_ml_target.transform(test.iloc[:,:1])\n",
    "\n",
    "\n",
    "        model = model_type()\n",
    "        model.fit(X = X_train, y = y_train)\n",
    "        predictions = model.predict(X_test)\n",
    "\n",
    "        gt_unscaled = scaler_ml_target.inverse_transform(y_test.reshape(-1,1))\n",
    "        predictions_unscaled = scaler_ml_target.inverse_transform(predictions.reshape(-1,1))\n",
    "\n",
    "        df_y_test = pd.DataFrame({\"ground_truth\":gt_unscaled.squeeze(), \"predictions\": predictions_unscaled.squeeze()}, index = test.index)\n",
    "\n",
    "        rmse = mean_squared_error(y_true=df_y_test[\"ground_truth\"], y_pred= df_y_test[\"predictions\"], squared=False) / test.max()[0]\n",
    "        r2 = r2_score(y_true=df_y_test[\"ground_truth\"], y_pred= df_y_test[\"predictions\"])\n",
    "\n",
    "        accuracy_dictionary[month] = rmse, r2\n",
    "\n",
    "    df_accuracy = pd.DataFrame(accuracy_dictionary, index = [\"rmse\", \"r2\"]).T\n",
    "\n",
    "    return df_accuracy, df_y_test\n"
   ]
  },
  {
   "cell_type": "code",
   "execution_count": 215,
   "metadata": {},
   "outputs": [],
   "source": [
    "rmse = []\n",
    "r2 = []\n",
    "\n",
    "for i in range(34):\n",
    "    df_ml = pd.concat([df_power.iloc[:,i].to_frame(\"power_{}\".format(i)), df_irr], axis = 1).dropna()\n",
    "    x = get_accuracies_per_month(df_ml, LinearRegression)[0]\n",
    "    rmse.append(x[\"rmse\"])\n",
    "    r2.append(x[\"r2\"])\n",
    "\n",
    "\n",
    "\n"
   ]
  },
  {
   "cell_type": "code",
   "execution_count": 216,
   "metadata": {},
   "outputs": [],
   "source": [
    "means_ml = pd.concat(rmse, axis = 1).mean(axis = 1)\n",
    "std_ml = pd.concat(rmse, axis = 1).std(axis = 1)\n",
    "\n",
    "df_stats_ml = pd.DataFrame({\"mean\": means_ml, \"std\": std_ml})"
   ]
  },
  {
   "cell_type": "code",
   "execution_count": 217,
   "metadata": {},
   "outputs": [
    {
     "data": {
      "image/png": "[encoded data removed]",
      "text/plain": [
       "<Figure size 1200x800 with 1 Axes>"
      ]
     },
     "metadata": {},
     "output_type": "display_data"
    }
   ],
   "source": [
    "\n",
    "\n",
    "\n",
    "\n",
    "def acc_bar_plot(df_plot: pd.DataFrame, acc_name: str):\n",
    "\n",
    "    plt.rcParams[\"font.family\"] = \"Times New Roman\"\n",
    "    plt.rcParams.update({'font.size': 12})\n",
    "    fig, ax = plt.subplots(figsize = (12,8))\n",
    "    ax.set_axisbelow(True)\n",
    "    ax.grid(axis = \"y\")\n",
    "    ax.bar(x = df_plot.index, height = df_plot[\"mean\"].values, yerr =df_plot[\"std\"].values, capsize = 10)\n",
    "    ax.set_ylabel(acc_name)\n",
    "\n",
    "\n",
    "acc_bar_plot(df_stats_ml, \"nRMSE\")\n"
   ]
  },
  {
   "cell_type": "code",
   "execution_count": null,
   "metadata": {},
   "outputs": [],
   "source": []
  }
 ],
 "metadata": {
  "kernelspec": {
   "display_name": "Python 3.9.13 ('pv_forecasting')",
   "language": "python",
   "name": "python3"
  },
  "language_info": {
   "codemirror_mode": {
    "name": "ipython",
    "version": 3
   },
   "file_extension": ".py",
   "mimetype": "text/x-python",
   "name": "python",
   "nbconvert_exporter": "python",
   "pygments_lexer": "ipython3",
   "version": "3.9.13"
  },
  "orig_nbformat": 4,
  "vscode": {
   "interpreter": {
    "hash": "d7da3e0b872b3b20a624f6348a5160e04adddb1509a7de316be35a482860b450"
   }
  }
 },
 "nbformat": 4,
 "nbformat_minor": 2
}
