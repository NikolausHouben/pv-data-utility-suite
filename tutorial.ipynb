{
 "cells": [
  {
   "cell_type": "markdown",
   "metadata": {},
   "source": [
    "# PV Data Utility Suite: Tutorial-Style Jupyter Notebook"
   ]
  },
  {
   "cell_type": "markdown",
   "metadata": {},
   "source": [
    "## 1. Data Cleaning and Exploration Module"
   ]
  },
  {
   "cell_type": "code",
   "execution_count": 1,
   "metadata": {},
   "outputs": [
    {
     "data": {
      "text/html": [
       "<div>\n",
       "<style scoped>\n",
       "    .dataframe tbody tr th:only-of-type {\n",
       "        vertical-align: middle;\n",
       "    }\n",
       "\n",
       "    .dataframe tbody tr th {\n",
       "        vertical-align: top;\n",
       "    }\n",
       "\n",
       "    .dataframe thead th {\n",
       "        text-align: right;\n",
       "    }\n",
       "</style>\n",
       "<table border=\"1\" class=\"dataframe\">\n",
       "  <thead>\n",
       "    <tr style=\"text-align: right;\">\n",
       "      <th></th>\n",
       "      <th>kWh</th>\n",
       "    </tr>\n",
       "    <tr>\n",
       "      <th>timestamp</th>\n",
       "      <th></th>\n",
       "    </tr>\n",
       "  </thead>\n",
       "  <tbody>\n",
       "    <tr>\n",
       "      <th>2021-03-23 12:45:00</th>\n",
       "      <td>6.730</td>\n",
       "    </tr>\n",
       "    <tr>\n",
       "      <th>2021-03-23 13:00:00</th>\n",
       "      <td>6.176</td>\n",
       "    </tr>\n",
       "    <tr>\n",
       "      <th>2021-03-23 13:15:00</th>\n",
       "      <td>5.779</td>\n",
       "    </tr>\n",
       "    <tr>\n",
       "      <th>2021-03-23 13:30:00</th>\n",
       "      <td>6.081</td>\n",
       "    </tr>\n",
       "    <tr>\n",
       "      <th>2021-03-23 13:45:00</th>\n",
       "      <td>5.819</td>\n",
       "    </tr>\n",
       "  </tbody>\n",
       "</table>\n",
       "</div>"
      ],
      "text/plain": [
       "                       kWh\n",
       "timestamp                 \n",
       "2021-03-23 12:45:00  6.730\n",
       "2021-03-23 13:00:00  6.176\n",
       "2021-03-23 13:15:00  5.779\n",
       "2021-03-23 13:30:00  6.081\n",
       "2021-03-23 13:45:00  5.819"
      ]
     },
     "execution_count": 1,
     "metadata": {},
     "output_type": "execute_result"
    }
   ],
   "source": [
    "import puds\n",
    "import pandas as pd\n",
    "import plotly.express as px\n",
    "import numpy as np\n",
    "\n",
    "df_power = pd.read_csv(\"data/example_power_data.csv\", index_col= 0, parse_dates= True)\n",
    "df_power.head()\n"
   ]
  },
  {
   "cell_type": "markdown",
   "metadata": {},
   "source": [
    "As a first order of business the index frequency should be known explicitely for the timeseries"
   ]
  },
  {
   "cell_type": "code",
   "execution_count": 2,
   "metadata": {},
   "outputs": [],
   "source": [
    "pd.infer_freq(df_power) #note that the native pandas function .infer_freq returns None here."
   ]
  },
  {
   "cell_type": "code",
   "execution_count": 6,
   "metadata": {},
   "outputs": [
    {
     "data": {
      "text/plain": [
       "DatetimeIndex(['2021-03-23 12:45:00', '2021-03-23 13:00:00',\n",
       "               '2021-03-23 13:15:00', '2021-03-23 13:30:00',\n",
       "               '2021-03-23 13:45:00', '2021-03-23 14:00:00',\n",
       "               '2021-03-23 14:15:00', '2021-03-23 14:30:00',\n",
       "               '2021-03-23 14:45:00', '2021-03-23 15:00:00',\n",
       "               ...\n",
       "               '2022-04-29 07:45:00', '2022-04-29 08:00:00',\n",
       "               '2022-04-29 08:15:00', '2022-04-29 08:30:00',\n",
       "               '2022-04-29 08:45:00', '2022-04-29 09:00:00',\n",
       "               '2022-04-29 09:15:00', '2022-04-29 09:30:00',\n",
       "               '2022-04-29 09:45:00', '2022-04-29 10:00:00'],\n",
       "              dtype='datetime64[ns]', length=38582, freq='900S')"
      ]
     },
     "execution_count": 6,
     "metadata": {},
     "output_type": "execute_result"
    }
   ],
   "source": [
    "ts_freq = puds.get_timestep_interval(df_power) # in seconds\n",
    "\n",
    "\n",
    "df_power = reindexer(df_power, ts_freq)\n"
   ]
  },
  {
   "cell_type": "markdown",
   "metadata": {},
   "source": [
    "## 2. Inverse Model Module"
   ]
  },
  {
   "cell_type": "markdown",
   "metadata": {},
   "source": [
    "## 3. Angle Inference"
   ]
  },
  {
   "cell_type": "code",
   "execution_count": 15,
   "metadata": {},
   "outputs": [],
   "source": []
  },
  {
   "cell_type": "code",
   "execution_count": 19,
   "metadata": {},
   "outputs": [
    {
     "data": {
      "text/plain": [
       "27"
      ]
     },
     "execution_count": 19,
     "metadata": {},
     "output_type": "execute_result"
    }
   ],
   "source": [
    "read_pv_specs()[\"orientation\"][\"tilt_angle\"]"
   ]
  },
  {
   "cell_type": "code",
   "execution_count": null,
   "metadata": {},
   "outputs": [],
   "source": []
  }
 ],
 "metadata": {
  "kernelspec": {
   "display_name": "Python 3.8.8 ('base')",
   "language": "python",
   "name": "python3"
  },
  "language_info": {
   "codemirror_mode": {
    "name": "ipython",
    "version": 3
   },
   "file_extension": ".py",
   "mimetype": "text/x-python",
   "name": "python",
   "nbconvert_exporter": "python",
   "pygments_lexer": "ipython3",
   "version": "3.9.12"
  },
  "orig_nbformat": 4,
  "vscode": {
   "interpreter": {
    "hash": "5e435237ca0942949f06fff12a56a8037995b0730e0492b1085cd436398fe123"
   }
  }
 },
 "nbformat": 4,
 "nbformat_minor": 2
}
